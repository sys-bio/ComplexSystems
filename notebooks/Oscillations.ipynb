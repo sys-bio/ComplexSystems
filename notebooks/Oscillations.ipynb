{
 "cells": [
  {
   "cell_type": "markdown",
   "metadata": {
    "id": "ZRA_SLfa0KTa"
   },
   "source": [
    "# Analysis of Oscillations"
   ]
  },
  {
   "cell_type": "markdown",
   "metadata": {
    "id": "6DI1yNOd0PI5"
   },
   "source": [
    "# Preliminaries"
   ]
  },
  {
   "cell_type": "markdown",
   "metadata": {},
   "source": [
    "## Imports"
   ]
  },
  {
   "cell_type": "code",
   "execution_count": 1,
   "metadata": {
    "executionInfo": {
     "elapsed": 39768,
     "status": "ok",
     "timestamp": 1620740149477,
     "user": {
      "displayName": "Joseph Hellerstein",
      "photoUrl": "https://lh3.googleusercontent.com/a-/AOh14Ggr-yAwbfqFCOlFTHoKepUYJ9VjZuCGILW-YdHvUQ=s64",
      "userId": "07301174361489660166"
     },
     "user_tz": 240
    },
    "id": "bYlTQg0n0S8d"
   },
   "outputs": [],
   "source": [
    "import tellurium as te\n",
    "import sympy\n",
    "import matplotlib.pyplot as plt\n",
    "import numpy as np\n",
    "import os\n",
    "\n",
    "from common_python.sympy import sympyUtil as su\n",
    "from common_python.ODEModel.ODEModel import ODEModel\n",
    "from common_python.ODEModel.oscillationFinder import OscillationFinder, XDict\n",
    "import matplotlib.pyplot as plt"
   ]
  },
  {
   "cell_type": "markdown",
   "metadata": {},
   "source": [
    "## Constants"
   ]
  },
  {
   "cell_type": "code",
   "execution_count": 2,
   "metadata": {},
   "outputs": [],
   "source": [
    "su.addSymbols(\"S0 S1 S2 S3 S4 S5 S6 S7 S8 S9 k0 k1 k2 k3 k4 k5 k6 k7 k8 k9 k10 k11 k12 k13 k14 k15 k16 k17 k18 k19 k20\")\n",
    "su.addSymbols(\"J0 J1 J2 J3 J4 J5 J6 J7 J8 J9 J10 J11 J12 J13 J14 J15 J16 J`7 J18 J19 J20\")\n",
    "FLUXES = [J0, J1, J2, J3, J4, J5, J6, J7, J8, J9, J10, J11, J12, J13, J14, J15]\n",
    "SPECIES = [S0, S1, S2, S3, S4, S5, S6, S7, S8]\n",
    "MODEL_DIR = \"/home/ubuntu/ComplexSystems/models/3-state\""
   ]
  },
  {
   "cell_type": "code",
   "execution_count": 3,
   "metadata": {},
   "outputs": [],
   "source": [
    "MODEL = \"\"\"\n",
    "J0: S0 -> S2; k0*S0\n",
    "J1: S3 + S3 -> S0; k5*S3*S3\n",
    "J2: S2 -> S3; k6*S2\n",
    "J3: S3 ->; k9*S2*S3\n",
    "J4: -> S3; k10*S0\n",
    "k0 = 6+0.9011095014634776\n",
    "k5 = 1.4823891153952284\n",
    "k6 = -10+15.149868787476994\n",
    "k9 = 91.19197034598812\n",
    "k10 = 200\n",
    "S0 = 1.0\n",
    "S1 = 5.0\n",
    "S2 = 9.0\n",
    "S3 = 3.0\n",
    "S4 = 10.0\n",
    "\"\"\"\n",
    "RR = te.loada(MODEL)"
   ]
  },
  {
   "cell_type": "markdown",
   "metadata": {
    "id": "UzypYn5RUEgj"
   },
   "source": [
    "# Helper Functions"
   ]
  },
  {
   "cell_type": "code",
   "execution_count": 4,
   "metadata": {},
   "outputs": [
    {
     "data": {
      "text/plain": [
       "{S0: -J0 + J1, S2: J0 - J2, S3: -2*J1 + J2 - J3 + J4}"
      ]
     },
     "execution_count": 4,
     "metadata": {},
     "output_type": "execute_result"
    }
   ],
   "source": [
    "# Create dictionary relating reaction names to species\n",
    "def mkStoichiometryExpressionDct(rr):\n",
    "    stoichiometryArr = rr.getFullStoichiometryMatrix()\n",
    "    reactionNames = [n[1:] if n[0] == \"_\" else n for n in stoichiometryArr.colnames]\n",
    "    stoichiometryArr.colnames = reactionNames\n",
    "    speciesNames = stoichiometryArr.rownames\n",
    "    dct = {}\n",
    "    for idx, species in enumerate(speciesNames):\n",
    "        sym = eval(species)\n",
    "        entry = [\"%d*%s\" % (stoichiometryArr[idx, n], reactionNames[n]) for n in range(len(reactionNames))]\n",
    "        expressionStr = \" + \".join(entry)\n",
    "        dct[sym] = eval(expressionStr)\n",
    "        dct[sym] = sympy.simplify(dct[sym])\n",
    "    return dct\n",
    "\n",
    "# Tests\n",
    "stoichiometryDct = mkStoichiometryExpressionDct(RR)\n",
    "stoichiometryDct  "
   ]
  },
  {
   "cell_type": "code",
   "execution_count": 5,
   "metadata": {},
   "outputs": [
    {
     "data": {
      "image/png": "[encoded data removed]",
      "text/plain": [
       "<Figure size 432x288 with 1 Axes>"
      ]
     },
     "metadata": {
      "needs_background": "light"
     },
     "output_type": "display_data"
    },
    {
     "data": {
      "image/png": "[encoded data removed]",
      "text/plain": [
       "<Figure size 432x288 with 1 Axes>"
      ]
     },
     "metadata": {
      "needs_background": "light"
     },
     "output_type": "display_data"
    }
   ],
   "source": [
    "# Do plot\n",
    "def plotEigenInfo(rr, title=\"\", k10Range=None, fixedPointIdx=1, **kwargs):\n",
    "    \"\"\"\n",
    "    Plots information about the dominant eigenvalue and fixed point for the\n",
    "    indicated fixed point.\n",
    "    \n",
    "    Parameters\n",
    "    ----------\n",
    "    rr: ExtendedRoadrunner\n",
    "    title: str\n",
    "    k10Range: range of k10\n",
    "    fixedPointIdx: int\n",
    "        index of the fixed point to study\n",
    "    kwargs: dict\n",
    "        fractional adjustment in value\n",
    "    \"\"\"\n",
    "    if k10Range is None:\n",
    "        k10Range = [150 + v for v in range(60)]\n",
    "    # Construct the data\n",
    "    subDct = {k0: rr.k0, k5: rr.k5, k6: rr.k6, k9: rr.k9, k10: rr.k10}\n",
    "    for key, value in kwargs.items():\n",
    "        if isinstance(key, str):\n",
    "            newKey = [s for s in subDct.keys() if s.name == key][0]\n",
    "        else:\n",
    "            newKey = key\n",
    "        subDct[newKey] = subDct[newKey] * value\n",
    "    xvs = []\n",
    "    reals = []\n",
    "    imags = []\n",
    "    fixedPointDcts = []\n",
    "    for c10 in k10Range: \n",
    "        subDct[k10] = c10\n",
    "        dominantReal = None\n",
    "        dominantImag = None\n",
    "        modelInfo = ODEModel.mkODEModel(rr, subs=subDct, isEigenvecs=False)\n",
    "        model = modelInfo.mdl\n",
    "        #model = ODEModel(REDUCED_STATE_DCT, subs=subDct, isEigenvecs=False)\n",
    "        # Find the dominant eigenvalue for the fixed points\n",
    "        if len(model.fixedPoints) > fixedPointIdx:\n",
    "            fixedPointDcts.append(dict(model.fixedPoints[fixedPointIdx].valueDct))\n",
    "            # Find the dominant eigenvalue\n",
    "            for entry in model.fixedPoints[fixedPointIdx].eigenEntries:\n",
    "                value = entry.value\n",
    "                if isinstance(value, complex):\n",
    "                    real, imag = su.asRealImag(value)\n",
    "                else:\n",
    "                    real = value\n",
    "                    imag = 0\n",
    "                if (dominantReal is None) or (real > dominantReal):\n",
    "                    dominantReal = real\n",
    "                    dominantImag = np.abs(imag)\n",
    "        xvs.append(c10)\n",
    "        reals.append(dominantReal)\n",
    "        imags.append(dominantImag)\n",
    "    # Plot the dominant eigenvalue\n",
    "    _, ax = plt.subplots(1)\n",
    "    ax.plot(xvs, reals, color=\"blue\")\n",
    "    ax.plot(xvs, imags, color=\"brown\")\n",
    "    ax.plot([xvs[0], xvs[-1]], [0, 0], linestyle=\"--\", color=\"black\")\n",
    "    ax.legend([\"real\", \"imag\"])\n",
    "    ax.set_title(title)\n",
    "    ax.set_xlabel(\"k10\")\n",
    "    # Plot the indexed fixed point\n",
    "    states = list(fixedPointDcts[0].keys())\n",
    "    _, ax = plt.subplots(1)\n",
    "    COLORS = [\"red\", \"green\", \"brown\"]\n",
    "    for idx, state in enumerate(states):\n",
    "        yvs = [f[state] for f in fixedPointDcts]\n",
    "        ax.plot(xvs, yvs, color=COLORS[idx])\n",
    "    ax.legend(states)\n",
    "    ax.set_title(\"Fixed Points\")\n",
    "    ax.set_xlabel(\"k10\")\n",
    "    return fixedPointDcts\n",
    "    \n",
    "# Test\n",
    "dcts = plotEigenInfo(RR, k10Range=[100 + 5*v for v in range(5)], k9=1, title=\"Dominant eigenvalue for 2nd fixed point.\")"
   ]
  },
  {
   "cell_type": "code",
   "execution_count": 6,
   "metadata": {},
   "outputs": [
    {
     "data": {
      "image/png": "[encoded data removed]",
      "text/plain": [
       "<Figure size 432x288 with 1 Axes>"
      ]
     },
     "metadata": {
      "needs_background": "light"
     },
     "output_type": "display_data"
    }
   ],
   "source": [
    "def runSim(model=MODEL, endTime=100, startTime=0, **kwargs):\n",
    "    def findIdx(arr, time):\n",
    "        \"\"\"Finds the index of the time in the simulation results array.\"\"\"\n",
    "        bestIdx = 0\n",
    "        diff = np.abs(arr[0, 0] - time)\n",
    "        for idx, value in enumerate(arr[:, 0]):\n",
    "            if np.abs(value - time) < diff:\n",
    "                diff = np.abs(value - time)\n",
    "                bestIdx = idx\n",
    "        return bestIdx\n",
    "    rr = te.loada(MODEL)\n",
    "    # Adjust the parameters\n",
    "    for key, value in kwargs.items():\n",
    "        if isinstance(key, sympy.core.symbol.Symbol):\n",
    "            newKey = s.name\n",
    "        else:\n",
    "            newKey = key\n",
    "        rr[newKey] = rr[newKey] * value\n",
    "    #rr.plot(rr.simulate(startTime, endTime, 10*endTime))\n",
    "    arr = rr.simulate(0, endTime, 10*endTime)\n",
    "    _, ax = plt.subplots(1)\n",
    "    startIdx = findIdx(arr, startTime)\n",
    "    endIdx = findIdx(arr, endTime)\n",
    "    for idx in range(len(arr.colnames[1:])):\n",
    "        ax.plot(arr[startIdx:endIdx,0], arr[startIdx:endIdx, idx+1])\n",
    "    ax.legend(arr.colnames[1:])\n",
    "    \n",
    "# Tests\n",
    "runSim(k9=0.5, startTime=900, endTime=910)"
   ]
  },
  {
   "cell_type": "markdown",
   "metadata": {},
   "source": [
    "# Numercial Evaluations"
   ]
  },
  {
   "cell_type": "markdown",
   "metadata": {},
   "source": [
    "Analyzes the eigenvalues numerically for the antimony simulation model"
   ]
  },
  {
   "cell_type": "code",
   "execution_count": 7,
   "metadata": {},
   "outputs": [
    {
     "data": {
      "text/plain": [
       "['/home/ubuntu/ComplexSystems/models/3-state/Model_8570403923242184953.ant',\n",
       " '/home/ubuntu/ComplexSystems/models/3-state/Model_308756242966137270.ant',\n",
       " '/home/ubuntu/ComplexSystems/models/3-state/Model_1179159900924707683.ant',\n",
       " '/home/ubuntu/ComplexSystems/models/3-state/Model_495895561502583999.ant',\n",
       " '/home/ubuntu/ComplexSystems/models/3-state/Model_504265579707051998.ant',\n",
       " '/home/ubuntu/ComplexSystems/models/3-state/Model_7767344276012911592.ant',\n",
       " '/home/ubuntu/ComplexSystems/models/3-state/Model_191588763966222966.ant',\n",
       " '/home/ubuntu/ComplexSystems/models/3-state/Model_5596570675878850909.ant',\n",
       " '/home/ubuntu/ComplexSystems/models/3-state/Model_8734971625908708850.ant',\n",
       " '/home/ubuntu/ComplexSystems/models/3-state/Model_2039186835123380747.ant',\n",
       " '/home/ubuntu/ComplexSystems/models/3-state/Model_118483669170045219.ant',\n",
       " '/home/ubuntu/ComplexSystems/models/3-state/Model_6648256619537599386.ant',\n",
       " '/home/ubuntu/ComplexSystems/models/3-state/Model_5692220670942502751.ant',\n",
       " '/home/ubuntu/ComplexSystems/models/3-state/Model_2592649064797885084.ant',\n",
       " '/home/ubuntu/ComplexSystems/models/3-state/Model_5673427220991162920.ant',\n",
       " '/home/ubuntu/ComplexSystems/models/3-state/Model_6135779032141583586.ant',\n",
       " '/home/ubuntu/ComplexSystems/models/3-state/Model_7278606909816402353.ant',\n",
       " '/home/ubuntu/ComplexSystems/models/3-state/Model_803809246016972440.ant',\n",
       " '/home/ubuntu/ComplexSystems/models/3-state/Model_992571131540593136.ant',\n",
       " '/home/ubuntu/ComplexSystems/models/3-state/Model_5226499540516013182.ant',\n",
       " '/home/ubuntu/ComplexSystems/models/3-state/Model_3704614159356947411.ant',\n",
       " '/home/ubuntu/ComplexSystems/models/3-state/Model_2968569378260811723.ant',\n",
       " '/home/ubuntu/ComplexSystems/models/3-state/Model_2694988485423555897.ant',\n",
       " '/home/ubuntu/ComplexSystems/models/3-state/Model_3048224735933096233.ant',\n",
       " '/home/ubuntu/ComplexSystems/models/3-state/Model_2602015822777867368.ant',\n",
       " '/home/ubuntu/ComplexSystems/models/3-state/Model_2181137665730427804.ant',\n",
       " '/home/ubuntu/ComplexSystems/models/3-state/Model_1746218547843422981.ant',\n",
       " '/home/ubuntu/ComplexSystems/models/3-state/Model_5536852558416456242.ant',\n",
       " '/home/ubuntu/ComplexSystems/models/3-state/Model_6941093215103206868.ant',\n",
       " '/home/ubuntu/ComplexSystems/models/3-state/Model_8824795445416268729.ant',\n",
       " '/home/ubuntu/ComplexSystems/models/3-state/Model_7903555879340380137.ant',\n",
       " '/home/ubuntu/ComplexSystems/models/3-state/Model_6136176155644140162.ant',\n",
       " '/home/ubuntu/ComplexSystems/models/3-state/Model_9100832023263796312.ant',\n",
       " '/home/ubuntu/ComplexSystems/models/3-state/Model_4681618827199333103.ant']"
      ]
     },
     "execution_count": 7,
     "metadata": {},
     "output_type": "execute_result"
    }
   ],
   "source": [
    "files = [os.path.join(MODEL_DIR, f) for f in os.listdir(MODEL_DIR) if os.path.isfile(os.path.join(MODEL_DIR, f))]\n",
    "files"
   ]
  },
  {
   "cell_type": "code",
   "execution_count": 11,
   "metadata": {},
   "outputs": [
    {
     "data": {
      "image/png": "[encoded data removed]",
      "text/plain": [
       "<Figure size 432x288 with 1 Axes>"
      ]
     },
     "metadata": {
      "needs_background": "light"
     },
     "output_type": "display_data"
    },
    {
     "data": {
      "image/png": "[encoded data removed]",
      "text/plain": [
       "<Figure size 432x288 with 1 Axes>"
      ]
     },
     "metadata": {
      "needs_background": "light"
     },
     "output_type": "display_data"
    }
   ],
   "source": [
    "def analyzeFile(path, **kwargs):\n",
    "    def mkTitle(string):\n",
    "        start = path.index(\"Model_\") + len(\"Model_\")\n",
    "        end = path.index(\".ant\")\n",
    "        prefix = path[start:end]\n",
    "        return \"%s: %s\" % (prefix, string)\n",
    "    #\n",
    "    rr = te.loada(path)\n",
    "    finder = OscillationFinder(rr)\n",
    "    # Change the parameter values\n",
    "    initialParameterXD = XDict.mkParameters(rr)\n",
    "    initialParameterXD = XDict(initialParameterXD.keys(), 1)\n",
    "    # finder.setParameters(initialParameterXD)\n",
    "    finder.simulate(parameterXD=initialParameterXD)\n",
    "    finder.plot(title=mkTitle(\"Initial Parameters\"))\n",
    "    # Find the parameters\n",
    "    feasibleParameterXD = finder.find(**kwargs)\n",
    "    finder.simulate(parameterXD=feasibleParameterXD)\n",
    "    finder.plot(title=mkTitle(\"Optimized Parameters\"))\n",
    "    return feasibleParameterXD\n",
    "    \n",
    "\n",
    "# Tests\n",
    "parameterXD = analyzeFile(files[0])\n"
   ]
  },
  {
   "cell_type": "code",
   "execution_count": null,
   "metadata": {},
   "outputs": [],
   "source": [
    "for ffile in files:\n",
    "    analyzeFile(ffile)"
   ]
  },
  {
   "cell_type": "code",
   "execution_count": 9,
   "metadata": {},
   "outputs": [
    {
     "ename": "NameError",
     "evalue": "name 'STOP' is not defined",
     "output_type": "error",
     "traceback": [
      "\u001b[0;31m---------------------------------------------------------------------------\u001b[0m",
      "\u001b[0;31mNameError\u001b[0m                                 Traceback (most recent call last)",
      "\u001b[0;32m<ipython-input-9-ee4decdca3b8>\u001b[0m in \u001b[0;36m<module>\u001b[0;34m\u001b[0m\n\u001b[0;32m----> 1\u001b[0;31m \u001b[0mSTOP\u001b[0m\u001b[0;34m\u001b[0m\u001b[0;34m\u001b[0m\u001b[0m\n\u001b[0m",
      "\u001b[0;31mNameError\u001b[0m: name 'STOP' is not defined"
     ]
    }
   ],
   "source": [
    "STOP"
   ]
  },
  {
   "cell_type": "markdown",
   "metadata": {},
   "source": [
    "# Damped Model 2"
   ]
  },
  {
   "cell_type": "code",
   "execution_count": null,
   "metadata": {},
   "outputs": [],
   "source": [
    "MODEL2 = \"\"\"\n",
    "var S0\n",
    "var S1\n",
    "var S2\n",
    "var S3\n",
    "var S4\n",
    "var S5\n",
    "var S6\n",
    "var S7\n",
    "ext S8\n",
    "J0: S4 -> S7+S5; k0*S4\n",
    "J1: S2 -> S4+S4; k1*S2\n",
    "J2: S4 -> S3+S3; k2*S4\n",
    "J3: S4 -> S2+S3; k3*S4\n",
    "J4: S0 -> S5; k4*S0\n",
    "J5: S5 + S4 -> S5; k5*S5*S4\n",
    "J6: S5 -> S3; k6*S5\n",
    "J7: S8 + S3 -> S0; k7*S8*S3\n",
    "J8: S3 -> S6+S5; k8*S3\n",
    "J9: S6 + S5 -> S4; k9*S6*S5\n",
    "J10: S7 + S5 -> S0 + S2; k10*S7*S5\n",
    "J11: S3 -> S5+S6; k11*S3\n",
    "J12: S6 + S1 -> S5; k12*S6*S1\n",
    "J13: S5 -> S5; k13*S5\n",
    "J14: S1 + S7 -> S1 + S1; k14*S1*S7\n",
    "k0 = 2.5920480618068815\n",
    "k1 = 422.2728070204247\n",
    "k2 = 28.978192374985912\n",
    "k3 = 29.723263589242986\n",
    "k4 = 21.04114996098882\n",
    "k5 = 1.5111236529181926\n",
    "k6 = 14.363185343334044\n",
    "k7 = 0.8231126169112812\n",
    "k8 = 54.27226867691914\n",
    "k9 = 58.17954213283633\n",
    "k10 = 10.682986014127339\n",
    "k11 = 194.08273474192015\n",
    "k12 = 15.989508525207631\n",
    "k13 = 13.186614071108659\n",
    "k14 = 35.67582901156382\n",
    "S0 = 1.0\n",
    "S1 = 5.0\n",
    "S2 = 9.0\n",
    "S3 = 3.0\n",
    "S4 = 10.0\n",
    "S5 = 3.0\n",
    "S6 = 7.0\n",
    "S7 = 1.0\n",
    "S8 = 6.0\n",
    "\"\"\"\n",
    "\n",
    "rr = te.loada(MODEL2)\n",
    "rr.plot(rr.simulate())"
   ]
  },
  {
   "cell_type": "code",
   "execution_count": null,
   "metadata": {},
   "outputs": [],
   "source": [
    "mat = sympy.Matrix(rr.getFullStoichiometryMatrix())\n",
    "mat"
   ]
  },
  {
   "cell_type": "code",
   "execution_count": null,
   "metadata": {},
   "outputs": [],
   "source": [
    "SPECIES_FLUX_DCT = mkStoichiometryExpressionDct(rr)\n",
    "SPECIES_FLUX_DCT"
   ]
  },
  {
   "cell_type": "code",
   "execution_count": null,
   "metadata": {},
   "outputs": [],
   "source": [
    "nullspace = mat.nullspace()"
   ]
  },
  {
   "cell_type": "code",
   "execution_count": null,
   "metadata": {},
   "outputs": [],
   "source": [
    "# Kinetics dictionary\n",
    "kineticDct = {\n",
    "    J0:  k0*S4,\n",
    "    J1:  k1*S2,\n",
    "    J2:  k2*S4,\n",
    "    J3:  k3*S4,\n",
    "    J4:  k4*S0,\n",
    "    J5:  k5*S5*S4,\n",
    "    J6:  k6*S5,\n",
    "    J7:  k7*S8*S3,\n",
    "    J8:  k8*S3,\n",
    "    J9:  k9*S6*S5,\n",
    "    J10:  k10*S7*S5,\n",
    "    J11:  k11*S3,\n",
    "    J12:  k12*S6*S1,\n",
    "    J13:  k13*S5,\n",
    "    J14:  k14*S1*S7,\n",
    "}"
   ]
  },
  {
   "cell_type": "code",
   "execution_count": null,
   "metadata": {},
   "outputs": [],
   "source": [
    "modelInfo = ODEModel.mkODEModel(rr, isFixedPoints=False, isEigenvecs=False)"
   ]
  },
  {
   "cell_type": "code",
   "execution_count": null,
   "metadata": {},
   "outputs": [],
   "source": [
    "# Note that S8 is external and so is constant\n",
    "modelInfo.mdl.stateDct"
   ]
  },
  {
   "cell_type": "code",
   "execution_count": null,
   "metadata": {},
   "outputs": [],
   "source": [
    "STATE_DCT = {s: SPECIES_FLUX_DCT[s].subs(kineticDct) for s in SPECIES_FLUX_DCT.keys() }\n",
    "STATE_DCT"
   ]
  },
  {
   "cell_type": "code",
   "execution_count": null,
   "metadata": {},
   "outputs": [],
   "source": [
    "relaxationResult = su.mkQuadraticRelaxation(modelInfo.mdl.stateDct)\n",
    "mat = sympy.simplify(relaxationResult.mat)\n",
    "mat"
   ]
  },
  {
   "cell_type": "code",
   "execution_count": null,
   "metadata": {},
   "outputs": [],
   "source": [
    "relaxationResult.sub"
   ]
  },
  {
   "cell_type": "code",
   "execution_count": null,
   "metadata": {},
   "outputs": [],
   "source": [
    "bVec = sympy.zeros(relaxationResult.mat.rows, 1)\n",
    "nullResult = relaxationResult.mat.gauss_jordan_solve(bVec)"
   ]
  },
  {
   "cell_type": "code",
   "execution_count": null,
   "metadata": {},
   "outputs": [],
   "source": [
    "nullResult[1]"
   ]
  },
  {
   "cell_type": "code",
   "execution_count": null,
   "metadata": {},
   "outputs": [],
   "source": [
    "nullVec = nullResult[0]"
   ]
  },
  {
   "cell_type": "code",
   "execution_count": null,
   "metadata": {},
   "outputs": [],
   "source": [
    "# Construct the constraints"
   ]
  },
  {
   "cell_type": "code",
   "execution_count": null,
   "metadata": {},
   "outputs": [],
   "source": [
    "nullResult[0][1] * nullResult[0][6], nullResult[0][8]"
   ]
  },
  {
   "cell_type": "code",
   "execution_count": null,
   "metadata": {},
   "outputs": [],
   "source": [
    "nullResult[0][4]"
   ]
  },
  {
   "cell_type": "code",
   "execution_count": null,
   "metadata": {},
   "outputs": [],
   "source": [
    "nullResult[0][5]"
   ]
  },
  {
   "cell_type": "code",
   "execution_count": null,
   "metadata": {},
   "outputs": [],
   "source": [
    "nullResult[0][10]"
   ]
  },
  {
   "cell_type": "code",
   "execution_count": null,
   "metadata": {},
   "outputs": [],
   "source": [
    "MODEL = ODEModel(STATE_DCT, isFixedPoints=False)"
   ]
  },
  {
   "cell_type": "code",
   "execution_count": null,
   "metadata": {},
   "outputs": [],
   "source": [
    "# Need to find a linear combination of values in the null space\n",
    "# such that the kinetic equations hold.\n",
    "# Have N reactions, M species. So, N - M constants to find.\n",
    "su.addSymbols(\"c c_0 c_1 c_2 c_3 c_4 c_5 c_6\")\n",
    "c = sympy.Matrix([c_0, c_1, c_2, c_3, c_4, c_5, c_6])\n",
    "mat = sympy.Matrix(nullspace).reshape(15, 7)\n",
    "mat * c"
   ]
  },
  {
   "cell_type": "code",
   "execution_count": null,
   "metadata": {},
   "outputs": [],
   "source": [
    "105/7"
   ]
  },
  {
   "cell_type": "code",
   "execution_count": null,
   "metadata": {},
   "outputs": [],
   "source": [
    "# Solve for log(S*)\n",
    "exprs = [ j - b for j, b in zip(kineticDct.values(), mat*c) ]\n",
    "exprs = [e.subs({S2: 0, S3: 0}) for e in exprs]\n",
    "sympy.solve(exprs, [ S5])"
   ]
  },
  {
   "cell_type": "markdown",
   "metadata": {},
   "source": [
    "**Approach**\n",
    "1. $N$ =  stoichiometry matrix\n",
    "1. $M$ = nullspace of $N$\n",
    "1. Substitute 0 for any state variable that must be zero for all vectors $M \\star c$.\n",
    "1. Solve for log of $x_n$ (state variable) in terms of log of $J_n$ (fluxes)\n",
    "1. We know that the fluxes for the fixed points must be in $M \\star c$, where $c$ is a vector.\n",
    "1. Substitute $J_n$ value from previous (5) into (4) to give an expression for $x_n$ in terms of $c_n$.\n",
    "\n",
    "Issue: How do I find the $c_i$?"
   ]
  },
  {
   "cell_type": "markdown",
   "metadata": {},
   "source": [
    "**Approach 2**\n",
    "1. Solve for $x_n$ in terms of $J$"
   ]
  },
  {
   "cell_type": "code",
   "execution_count": null,
   "metadata": {},
   "outputs": [],
   "source": [
    "# Looks like I can manually solve for most species\n",
    "SPECIES_FLUX_DCT = {\n",
    "    S0: J4/k4,\n",
    "    S1: (J12/k12) /((J9 / k9) / (J6 / k6)),\n",
    "    S2: J1 / k1,\n",
    "    S3: J8 / k8,\n",
    "    S4: J0 / k0,\n",
    "    S5: J6 / k6,\n",
    "    S6: (J9 / k9) / (J6 / k6),\n",
    "    S7: (J10 / k10) / (J6 / k6),\n",
    "    S8: (J7 / k7) / (J8 / k8),   \n",
    "    \n",
    "}"
   ]
  },
  {
   "cell_type": "code",
   "execution_count": null,
   "metadata": {},
   "outputs": [],
   "source": [
    "dstateDct =  {s: SPECIES_FLUX_DCT[s].subs(kineticDct) for s in SPECIES_FLUX_DCT.keys()}"
   ]
  },
  {
   "cell_type": "code",
   "execution_count": null,
   "metadata": {},
   "outputs": [],
   "source": [
    "dstateDct"
   ]
  },
  {
   "cell_type": "markdown",
   "metadata": {},
   "source": [
    "# Reduced Model"
   ]
  },
  {
   "cell_type": "code",
   "execution_count": null,
   "metadata": {},
   "outputs": [],
   "source": [
    "su.addSymbols(\"S0 S1 S2 S3 S4 S5 S6\")\n",
    "su.addSymbols(\"k0 k1 k2 k3 k4 k5 k6 k7 k8 k9 k10 k11 k12 k13 k14 k15 k16 k17 k18 k19 k20\")\n",
    "su.addSymbols(\"J0 J1 J2 J3 J4 J5 J6 J7 J8 J9 J10 J11 J12 J13 J14 J15 J16 J`7 J18 J19 J20\")\n",
    "REDUCED_FLUXES = [J0, J1, J2, J3, J4]\n",
    "REDUCED_SPECIES = [S0, S1, S2, S3, S4]"
   ]
  },
  {
   "cell_type": "code",
   "execution_count": null,
   "metadata": {},
   "outputs": [],
   "source": [
    "MODEL = \"\"\"\n",
    "J0: S0 -> S2; k0*S0\n",
    "J1: S3 + S3 -> S0; k5*S3*S3\n",
    "J2: S2 -> S3; k6*S2\n",
    "J3: S3 ->; k9*S2*S3\n",
    "J4: -> S3; k10*S0\n",
    "k0 = 6+0.9011095014634776\n",
    "k5 = 1.4823891153952284\n",
    "k6 = -10+15.149868787476994\n",
    "k9 = 91.19197034598812\n",
    "k10 = 200\n",
    "S0 = 1.0\n",
    "S1 = 5.0\n",
    "S2 = 9.0\n",
    "S3 = 3.0\n",
    "S4 = 10.0\n",
    "\"\"\""
   ]
  },
  {
   "cell_type": "code",
   "execution_count": null,
   "metadata": {},
   "outputs": [],
   "source": [
    "MODEL = \"\"\"\n",
    "J0: S0 -> S2; k0*S0\n",
    "J1: S3 + S3 -> S0; k5*S3*S3\n",
    "J2: S2 -> S3; k6*S2\n",
    "J3: S3 ->; k9*S2*S3\n",
    "J4: -> S3; k10*S0\n",
    "k0 = (6+0.9011095014634776)\n",
    "k5 = 1.4823891153952284\n",
    "k6 = (-10+15.149868787476994)\n",
    "k9 = 91.19197034598812  # At k9 * 0.5, use k10 = k155\n",
    "k10 = 200 # 164, 165 ins a transition from damped to stable oscillations\n",
    "S0 = 1.0\n",
    "S2 = 9.0\n",
    "S3 = 3.0\n",
    "\"\"\"\n",
    "\n",
    "rr = te.loada(MODEL)\n",
    "rr.plot(rr.simulate(0, 100, 100)) "
   ]
  },
  {
   "cell_type": "code",
   "execution_count": null,
   "metadata": {},
   "outputs": [],
   "source": [
    "runSim(k9=0.5, k10=140, endTime=1000)"
   ]
  },
  {
   "cell_type": "code",
   "execution_count": null,
   "metadata": {},
   "outputs": [],
   "source": [
    "runSim(k9=0.5, k10=150, endTime=1000)"
   ]
  },
  {
   "cell_type": "markdown",
   "metadata": {},
   "source": [
    "## Relaxation Analysis"
   ]
  },
  {
   "cell_type": "markdown",
   "metadata": {},
   "source": [
    "1. Create a linear system by adding new variables for quadratics.\n",
    "1. Find the nullspace of the linear system.\n",
    "1. Solve for unknown constants using constraints."
   ]
  },
  {
   "cell_type": "code",
   "execution_count": null,
   "metadata": {},
   "outputs": [],
   "source": [
    "modelInfo = ODEModel.mkODEModel(rr, isFixedPoints=False, isEigenvecs=False)"
   ]
  },
  {
   "cell_type": "code",
   "execution_count": null,
   "metadata": {},
   "outputs": [],
   "source": [
    "modelInfo.mdl.stateDct"
   ]
  },
  {
   "cell_type": "code",
   "execution_count": null,
   "metadata": {},
   "outputs": [],
   "source": [
    "relaxationResult = su.mkQuadraticRelaxation(modelInfo.mdl.stateDct)\n",
    "mat = sympy.simplify(relaxationResult.mat)\n",
    "mat"
   ]
  },
  {
   "cell_type": "code",
   "execution_count": null,
   "metadata": {},
   "outputs": [],
   "source": [
    "nullVecs = mat.nullspace(relaxationResult.vec)\n",
    "nullVecs"
   ]
  },
  {
   "cell_type": "code",
   "execution_count": null,
   "metadata": {},
   "outputs": [],
   "source": [
    "relaxationResult.vec"
   ]
  },
  {
   "cell_type": "code",
   "execution_count": null,
   "metadata": {},
   "outputs": [],
   "source": [
    "su.addSymbols(\"c_0 c_1\")\n",
    "nullVec = nullVecs[0]*c_0 + nullVecs[1] * c_1\n",
    "nullVec"
   ]
  },
  {
   "cell_type": "code",
   "execution_count": null,
   "metadata": {},
   "outputs": [],
   "source": [
    "# Solve for the constraints\n",
    "# Constraint 1: S2*S3 == S2S3\n",
    "sympy.solve(nullVec[1] * nullVec[2] -   nullVec[3], [c_0, c_1])"
   ]
  },
  {
   "cell_type": "code",
   "execution_count": null,
   "metadata": {},
   "outputs": [],
   "source": [
    "# Solve for the constraints\n",
    "# Constraint 2: S3*S3 == S3S3\n",
    "sympy.solve(nullVec[2] * nullVec[2] -   nullVec[4], [c_0, c_1])"
   ]
  },
  {
   "cell_type": "markdown",
   "metadata": {},
   "source": [
    "So, $c_0 = k_6 \\frac{-k_0 + k_{10}}{k_0 k_9}$. $c_1 = c_0^2$."
   ]
  },
  {
   "cell_type": "code",
   "execution_count": null,
   "metadata": {},
   "outputs": [],
   "source": [
    "# Verifying the solution\n",
    "newNullVec = nullVec.subs(c_1, c_0**2)\n",
    "newNullVec = newNullVec.subs(c_0, -k6*(k10-k0)/(k0*k9))\n",
    "newNullVec"
   ]
  },
  {
   "cell_type": "markdown",
   "metadata": {},
   "source": [
    "### Algorithm"
   ]
  },
  {
   "cell_type": "code",
   "execution_count": null,
   "metadata": {},
   "outputs": [],
   "source": [
    "# Create the state equations from the roadrunner model\n",
    "def findFixedPoints(rr):\n",
    "    \"\"\"\n",
    "    Finds the fixed points of the roadrunner model that only has mass action kinetics\n",
    "    and no more than two reactants. The approach uses relaxation by transforming the quadratic\n",
    "    equations to a higher dimension linear space.\n",
    "    \n",
    "    Parameteters\n",
    "    ------------\n",
    "    rr: ExtendedRoadRunner\n",
    "    \n",
    "    Returns\n",
    "    -------\n",
    "    list-dict\n",
    "        key: state variable symbol\n",
    "        value: expressions\n",
    "    \"\"\"\n",
    "    def findIdx(sym):\n",
    "        return list(relaxationResult.vec).index(sym)\n",
    "    #\n",
    "    modelInfo = ODEModel.mkODEModel(rr, isFixedPoints=False, isEigenvecs=False)\n",
    "    relaxationResult = su.mkQuadraticRelaxation(modelInfo.mdl.stateDct)\n",
    "    mat = sympy.simplify(relaxationResult.mat)\n",
    "    nullVecs = mat.nullspace(relaxationResult.vec)\n",
    "    # Create solution for the nullspace\n",
    "    constantStrs = [\"c%d\" % n for n in range(len(nullVecs))]\n",
    "    su.addSymbols(\" \".join(constantStrs), dct=globals())\n",
    "    constantSyms = [globals()[s] for s in constantStrs]\n",
    "    mat =  sympy.Matrix(nullVecs)\n",
    "    numRow = nullVecs[0].rows\n",
    "    numCol = len(nullVecs)\n",
    "    nullspaceLst = [list(v) for v in nullVecs]\n",
    "    mat = sympy.Matrix(nullspaceLst)\n",
    "    mat = mat.transpose()\n",
    "    constantVec = sympy.Matrix(constantSyms)\n",
    "    nullspaceVec = mat * constantVec\n",
    "    # Solve for the constraints\n",
    "    symEntryDct = {s: nullspaceVec[n] for n, s in enumerate(relaxationResult.vec)}\n",
    "    # Construct equality expressions and solve.\n",
    "    eprs = []\n",
    "    for quadSym, quadEpr in relaxationResult.sub.items():\n",
    "        quadIdx = findIdx(quadSym)\n",
    "        syms = list(quadEpr.args)\n",
    "        if syms[1] == 2:\n",
    "            syms[1] = syms[0]\n",
    "        symIdxs = [findIdx(s) for s in syms]\n",
    "        prodEpr = nullspaceVec[symIdxs[0]] * nullspaceVec[symIdxs[1]]\n",
    "        eprs.append(nullspaceVec[quadIdx] - prodEpr)\n",
    "    return eprs, constantSyms\n",
    "    solutions = sympy.solve(eprs, constantSyms) # Values of constants to match constraints\n",
    "    # Calculate the fixed points\n",
    "    simpleSyms = set(relaxationResult.vec).symmetric_difference(relaxationResult.sub.keys())\n",
    "    simpleSyms = sorted(simpleSyms, key=lambda s: s.name)\n",
    "    fixedPointDcts = []\n",
    "    for solution in solutions:\n",
    "        # Calculate the vector for each solution\n",
    "        numVec = len(nullspaceLst)\n",
    "        vec = sympy.zeros(len(relaxationResult.vec), 1)\n",
    "        for idx in range(numVec):\n",
    "            vec += solution[idx] * sympy.Matrix(nullspaceLst[idx])\n",
    "        # Create the fixed point from the vector\n",
    "        fixedPointDcts.append({simpleSyms[n]: vec[n] for n in range(len(simpleSyms))})\n",
    "    return fixedPointDcts\n",
    "\n",
    "# Tests\n",
    "fixedPointDcts = findFixedPoints(rr)\n",
    "fixedPointDcts"
   ]
  },
  {
   "cell_type": "code",
   "execution_count": null,
   "metadata": {},
   "outputs": [],
   "source": [
    "fixedPointDcts[1][S3]"
   ]
  },
  {
   "cell_type": "markdown",
   "metadata": {},
   "source": [
    "### Evaluation"
   ]
  },
  {
   "cell_type": "code",
   "execution_count": null,
   "metadata": {},
   "outputs": [],
   "source": [
    "files = [os.path.join(MODEL_DIR, f) for f in os.listdir(MODEL_DIR) if os.path.isfile(os.path.join(MODEL_DIR, f))]\n",
    "files"
   ]
  },
  {
   "cell_type": "code",
   "execution_count": null,
   "metadata": {},
   "outputs": [],
   "source": [
    "rr = te.loada(files[0])\n",
    "print(rr.getAntimony())"
   ]
  },
  {
   "cell_type": "code",
   "execution_count": null,
   "metadata": {},
   "outputs": [],
   "source": [
    "rr = te.loada(files[0])\n",
    "result = findFixedPoints(rr)\n",
    "if False:\n",
    "    modelInfo = ODEModel.mkODEModel(rr, isFixedPoints=False, isEigenvecs=False)\n",
    "    relaxationResult = su.mkQuadraticRelaxation(modelInfo.mdl.stateDct)"
   ]
  },
  {
   "cell_type": "code",
   "execution_count": null,
   "metadata": {},
   "outputs": [],
   "source": [
    "len(result[0])"
   ]
  },
  {
   "cell_type": "code",
   "execution_count": null,
   "metadata": {},
   "outputs": [],
   "source": [
    "result[0][0].expand()"
   ]
  },
  {
   "cell_type": "code",
   "execution_count": null,
   "metadata": {},
   "outputs": [],
   "source": [
    "result[0][1].expand()"
   ]
  },
  {
   "cell_type": "code",
   "execution_count": null,
   "metadata": {},
   "outputs": [],
   "source": [
    "result[0][2]"
   ]
  },
  {
   "cell_type": "code",
   "execution_count": null,
   "metadata": {},
   "outputs": [],
   "source": [
    "sympy.fraction(1)"
   ]
  },
  {
   "cell_type": "code",
   "execution_count": null,
   "metadata": {},
   "outputs": [],
   "source": [
    "sympy.fraction(result[0][2].expand().args[1])"
   ]
  },
  {
   "cell_type": "code",
   "execution_count": null,
   "metadata": {},
   "outputs": [],
   "source": [
    "modelInfo.mdl.stateDct"
   ]
  },
  {
   "cell_type": "markdown",
   "metadata": {},
   "source": [
    "## Miscellaneous Analysis"
   ]
  },
  {
   "cell_type": "code",
   "execution_count": null,
   "metadata": {},
   "outputs": [],
   "source": [
    "plot1(k0=0.01, k5=0.1, k6=0.1, k9=0.1, base=100)"
   ]
  },
  {
   "cell_type": "code",
   "execution_count": null,
   "metadata": {},
   "outputs": [],
   "source": [
    "REDUCED_SPECIES_FLUX_DCT = mkStoichiometryExpressionDct(rr)\n",
    "REDUCED_SPECIES_FLUX_DCT"
   ]
  },
  {
   "cell_type": "code",
   "execution_count": null,
   "metadata": {},
   "outputs": [],
   "source": [
    "kineticDct = {\n",
    "    J0: k0 * S0,\n",
    "    J1: k5 * S3 * S3,\n",
    "    J2: k6 * S2,\n",
    "    J3: k9 * S2 * S3,\n",
    "    J4: k10*S0,  # Is this really mass action?\n",
    "    \n",
    "}"
   ]
  },
  {
   "cell_type": "code",
   "execution_count": null,
   "metadata": {},
   "outputs": [],
   "source": [
    "# State equation is wrong for S2. Should be - S2*k6\n",
    "REDUCED_STATE_DCT = {s: REDUCED_SPECIES_FLUX_DCT[s].subs(kineticDct) for s in REDUCED_SPECIES_FLUX_DCT.keys()}\n",
    "REDUCED_STATE_DCT"
   ]
  },
  {
   "cell_type": "code",
   "execution_count": null,
   "metadata": {},
   "outputs": [],
   "source": [
    "sympy.solve(list(REDUCED_STATE_DCT.values()), list(REDUCED_STATE_DCT.keys()))"
   ]
  },
  {
   "cell_type": "code",
   "execution_count": null,
   "metadata": {},
   "outputs": [],
   "source": [
    "reducedModel = ODEModel(REDUCED_STATE_DCT)"
   ]
  },
  {
   "cell_type": "code",
   "execution_count": null,
   "metadata": {},
   "outputs": [],
   "source": [
    "# Fixed points\n",
    "[f.valueDct for f in reducedModel.fixedPoints]"
   ]
  },
  {
   "cell_type": "code",
   "execution_count": null,
   "metadata": {},
   "outputs": [],
   "source": [
    "# Verify that these are fixed points\n",
    "for fp in reducedModel.fixedPoints:\n",
    "    print([sympy.simplify(e.subs(fp.valueDct)) for e in REDUCED_STATE_DCT.values()])"
   ]
  },
  {
   "cell_type": "code",
   "execution_count": null,
   "metadata": {},
   "outputs": [],
   "source": [
    "# Look at the eigenvectors\n",
    "if False:\n",
    "    for entry in reducedModel.fixedPoints[1].eigenEntries:\n",
    "        for vector in entry.vectors:\n",
    "            print(vector)"
   ]
  },
  {
   "cell_type": "code",
   "execution_count": null,
   "metadata": {},
   "outputs": [],
   "source": [
    "eigenvalues = [e.value for e in reducedModel.fixedPoints[1].eigenEntries]"
   ]
  },
  {
   "cell_type": "markdown",
   "metadata": {},
   "source": [
    "**Approach**\n",
    "1. Find the fixed points.\n",
    "1. For non-zero fixed points:\n",
    "    1. Find the eigenvalues in terms of each constant in turn, setting the other constants to 1.\n",
    "    1. Search for values of constants that result in a positive but near zero real value and significant non-zero imaginary part"
   ]
  },
  {
   "cell_type": "markdown",
   "metadata": {},
   "source": [
    "**Issue**\n",
    "1. Eigenvalues have no relationship to the system behavior"
   ]
  },
  {
   "cell_type": "markdown",
   "metadata": {},
   "source": [
    "## Finding Parameter Values"
   ]
  },
  {
   "cell_type": "markdown",
   "metadata": {},
   "source": [
    "Given an ODEModel, find values of parameters that result in oscillations at different frequencies."
   ]
  },
  {
   "cell_type": "code",
   "execution_count": null,
   "metadata": {},
   "outputs": [],
   "source": [
    "c0 = rr.k0\n",
    "c5 = rr.k5\n",
    "c6 = rr.k6\n",
    "c9 = rr.k9\n",
    "c10 = rr.k10\n",
    "for c10 in [150 + n for n in range(50)]:\n",
    "    subDct = {k0: c0, k5: c5, k6: c6, k9: c9, k10: c10}\n",
    "    model = ODEModel(REDUCED_STATE_DCT, subs=subDct)\n",
    "    entries = model.fixedPoints[1].eigenEntries\n",
    "    print((c10, [e.value for e in entries]))"
   ]
  },
  {
   "cell_type": "markdown",
   "metadata": {},
   "source": [
    "## Plots"
   ]
  },
  {
   "cell_type": "code",
   "execution_count": null,
   "metadata": {},
   "outputs": [],
   "source": [
    "dcts = plotEigenInfo(RR, k10Range=[100 + 5*v for v in range(25)], k9=1, title=\"Dominant eigenvalue for 2nd fixed point.\")"
   ]
  },
  {
   "cell_type": "code",
   "execution_count": null,
   "metadata": {},
   "outputs": [],
   "source": [
    "runSim(k10=100/200, startTime=0, endTime=10)"
   ]
  },
  {
   "cell_type": "code",
   "execution_count": null,
   "metadata": {},
   "outputs": [],
   "source": [
    "runSim(k10=160/200, startTime=0, endTime=10)"
   ]
  },
  {
   "cell_type": "code",
   "execution_count": null,
   "metadata": {},
   "outputs": [],
   "source": [
    "runSim(k9=1, k10=160/200, startTime=990, endTime=1000)"
   ]
  },
  {
   "cell_type": "code",
   "execution_count": null,
   "metadata": {},
   "outputs": [],
   "source": [
    "runSim(k9=1, k10=170/200, startTime=990, endTime=1000)"
   ]
  },
  {
   "cell_type": "code",
   "execution_count": null,
   "metadata": {},
   "outputs": [],
   "source": [
    "runSim(k9=1, k10=200/200, startTime=990, endTime=1000)"
   ]
  },
  {
   "cell_type": "code",
   "execution_count": null,
   "metadata": {},
   "outputs": [],
   "source": [
    "4.5 / (2*np.pi)"
   ]
  },
  {
   "cell_type": "code",
   "execution_count": null,
   "metadata": {},
   "outputs": [],
   "source": [
    "def plot1(base=150, **kwargs):\n",
    "    k10Range=[base + 10*v for v in range(10)]\n",
    "    title = \"\"\n",
    "    for key, value in kwargs.items():\n",
    "        title += \" %s: %3.2f \" % (str(key), value)\n",
    "    plotComplexEigenvalue(rr, k10Range=k10Range, title=title, **kwargs)\n",
    "    \n",
    "plot1(k0=1, k5=1, k6=1, k9=1)"
   ]
  },
  {
   "cell_type": "code",
   "execution_count": null,
   "metadata": {},
   "outputs": [],
   "source": [
    "plot1(k0=0.01, k5=0.1, k6=0.1, k9=0.1, base=100)"
   ]
  },
  {
   "cell_type": "code",
   "execution_count": null,
   "metadata": {},
   "outputs": [],
   "source": [
    "plot1(k0=1, k5=1, k6=1, k9=0.5, base=100)\n"
   ]
  },
  {
   "cell_type": "code",
   "execution_count": null,
   "metadata": {},
   "outputs": [],
   "source": [
    "runSim(k0=1, k5=1, k6=1, k9=0.5, k10=100, endTime=1000)"
   ]
  },
  {
   "cell_type": "markdown",
   "metadata": {},
   "source": [
    "Am i excluding the dominant eigenvalue? Do the plots for all eigenvalues."
   ]
  }
 ],
 "metadata": {
  "colab": {
   "authorship_tag": "ABX9TyN+jUQTGRg8ACyAQWOHz46j",
   "collapsed_sections": [],
   "name": "Integral Control Analysis.ipynb",
   "provenance": [],
   "toc_visible": true
  },
  "kernelspec": {
   "display_name": "Python 3",
   "language": "python",
   "name": "python3"
  },
  "language_info": {
   "codemirror_mode": {
    "name": "ipython",
    "version": 3
   },
   "file_extension": ".py",
   "mimetype": "text/x-python",
   "name": "python",
   "nbconvert_exporter": "python",
   "pygments_lexer": "ipython3",
   "version": "3.6.9"
  },
  "toc-showcode": false
 },
 "nbformat": 4,
 "nbformat_minor": 4
}
