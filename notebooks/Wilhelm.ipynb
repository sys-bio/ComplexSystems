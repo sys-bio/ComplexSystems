{
 "cells": [
  {
   "cell_type": "markdown",
   "metadata": {
    "id": "ZRA_SLfa0KTa"
   },
   "source": [
    "# Analysis of Wilhelm - \"The Smallest Chemical Reaction with Bistability\""
   ]
  },
  {
   "cell_type": "markdown",
   "metadata": {
    "id": "6DI1yNOd0PI5"
   },
   "source": [
    "# Preliminaries"
   ]
  },
  {
   "cell_type": "markdown",
   "metadata": {},
   "source": [
    "## Imports"
   ]
  },
  {
   "cell_type": "code",
   "execution_count": 1,
   "metadata": {
    "executionInfo": {
     "elapsed": 39768,
     "status": "ok",
     "timestamp": 1620740149477,
     "user": {
      "displayName": "Joseph Hellerstein",
      "photoUrl": "https://lh3.googleusercontent.com/a-/AOh14Ggr-yAwbfqFCOlFTHoKepUYJ9VjZuCGILW-YdHvUQ=s64",
      "userId": "07301174361489660166"
     },
     "user_tz": 240
    },
    "id": "bYlTQg0n0S8d"
   },
   "outputs": [],
   "source": [
    "import tellurium as te\n",
    "import sympy\n",
    "import matplotlib.pyplot as plt\n",
    "import numpy as np\n",
    "from common_python.sympy import sympyUtil as su\n",
    "from common_python.ODEModel.ODEModel import ODEModel"
   ]
  },
  {
   "cell_type": "markdown",
   "metadata": {},
   "source": [
    "## Constants"
   ]
  },
  {
   "cell_type": "code",
   "execution_count": 21,
   "metadata": {},
   "outputs": [],
   "source": [
    "su.addSymbols(\"k_1 x k_2 k_3 y k_4\")"
   ]
  },
  {
   "cell_type": "markdown",
   "metadata": {},
   "source": [
    "# Equations"
   ]
  },
  {
   "cell_type": "code",
   "execution_count": 22,
   "metadata": {},
   "outputs": [],
   "source": [
    "stateDct = {\n",
    "    x: 2 * k_1 * y - k_2 * x**2 - k_3 * x * y - k_4 * x,\n",
    "    y: k_2 * x **2 - k_1 * y\n",
    "}"
   ]
  },
  {
   "cell_type": "markdown",
   "metadata": {},
   "source": [
    "# Analysis of Fixed Points"
   ]
  },
  {
   "cell_type": "code",
   "execution_count": 62,
   "metadata": {},
   "outputs": [
    {
     "data": {
      "text/latex": [
       "$\\displaystyle 2 k_{1} y - k_{2} x^{2} - k_{3} x y - k_{4} x$"
      ],
      "text/plain": [
       "2*k_1*y - k_2*x**2 - k_3*x*y - k_4*x"
      ]
     },
     "execution_count": 62,
     "metadata": {},
     "output_type": "execute_result"
    }
   ],
   "source": [
    "stateDct[x]"
   ]
  },
  {
   "cell_type": "code",
   "execution_count": 63,
   "metadata": {},
   "outputs": [
    {
     "data": {
      "text/latex": [
       "$\\displaystyle - k_{1} y + k_{2} x^{2}$"
      ],
      "text/plain": [
       "-k_1*y + k_2*x**2"
      ]
     },
     "execution_count": 63,
     "metadata": {},
     "output_type": "execute_result"
    }
   ],
   "source": [
    "stateDct[y]"
   ]
  },
  {
   "cell_type": "code",
   "execution_count": 23,
   "metadata": {},
   "outputs": [],
   "source": [
    "model = ODEModel(stateDct)"
   ]
  },
  {
   "cell_type": "code",
   "execution_count": 57,
   "metadata": {},
   "outputs": [
    {
     "data": {
      "text/plain": [
       "[{x: 0.0, y: 0.0},\n",
       " {x: -(-1.0*sqrt(k_1)*sqrt(k_2)*sqrt(0.25*k_1*k_2 - k_3*k_4)/k_3**2 + 0.5*(k_1*k_2 - 2.0*k_3*k_4)/k_3**2)*(-k_1*k_2 + k_3**2*(-1.0*sqrt(k_1)*sqrt(k_2)*sqrt(0.25*k_1*k_2 - k_3*k_4)/k_3**2 + 0.5*(k_1*k_2 - 2.0*k_3*k_4)/k_3**2) + k_3*k_4)/(k_2*k_4),\n",
       "  y: -1.0*sqrt(k_1)*sqrt(k_2)*sqrt(0.25*k_1*k_2 - k_3*k_4)/k_3**2 + 0.5*(k_1*k_2 - 2.0*k_3*k_4)/k_3**2},\n",
       " {x: -(1.0*sqrt(k_1)*sqrt(k_2)*sqrt(0.25*k_1*k_2 - k_3*k_4)/k_3**2 + 0.5*(k_1*k_2 - 2.0*k_3*k_4)/k_3**2)*(-k_1*k_2 + k_3**2*(1.0*sqrt(k_1)*sqrt(k_2)*sqrt(0.25*k_1*k_2 - k_3*k_4)/k_3**2 + 0.5*(k_1*k_2 - 2.0*k_3*k_4)/k_3**2) + k_3*k_4)/(k_2*k_4),\n",
       "  y: 1.0*sqrt(k_1)*sqrt(k_2)*sqrt(0.25*k_1*k_2 - k_3*k_4)/k_3**2 + 0.5*(k_1*k_2 - 2.0*k_3*k_4)/k_3**2}]"
      ]
     },
     "execution_count": 57,
     "metadata": {},
     "output_type": "execute_result"
    }
   ],
   "source": [
    "valueDcts = [f.valueDct for f in model.fixedPoints]\n",
    "valueDcts"
   ]
  },
  {
   "cell_type": "code",
   "execution_count": 61,
   "metadata": {},
   "outputs": [
    {
     "data": {
      "text/latex": [
       "$\\displaystyle - \\frac{2.0 \\sqrt{k_{1}} \\sqrt{0.25 k_{1} k_{2} - k_{3} k_{4}}}{\\sqrt{k_{2}} k_{3}}$"
      ],
      "text/plain": [
       "-2.0*sqrt(k_1)*sqrt(0.25*k_1*k_2 - k_3*k_4)/(sqrt(k_2)*k_3)"
      ]
     },
     "execution_count": 61,
     "metadata": {},
     "output_type": "execute_result"
    }
   ],
   "source": [
    "sympy.simplify(valueDcts[1][x] - valueDcts[2][x])"
   ]
  },
  {
   "cell_type": "markdown",
   "metadata": {},
   "source": [
    "So, require that $0.25 k_1 k_2 \\geq k_3 k_4$ for real fixed point."
   ]
  },
  {
   "cell_type": "markdown",
   "metadata": {},
   "source": [
    "## Non-zero fixed points"
   ]
  },
  {
   "cell_type": "code",
   "execution_count": 66,
   "metadata": {},
   "outputs": [
    {
     "data": {
      "text/latex": [
       "$\\displaystyle - \\frac{1.0 \\sqrt{k_{1}} \\sqrt{0.25 k_{1} k_{2} - k_{3} k_{4}}}{\\sqrt{k_{2}} k_{3}} + \\frac{0.5 k_{1}}{k_{3}}$"
      ],
      "text/plain": [
       "-1.0*sqrt(k_1)*sqrt(0.25*k_1*k_2 - k_3*k_4)/(sqrt(k_2)*k_3) + 0.5*k_1/k_3"
      ]
     },
     "execution_count": 66,
     "metadata": {},
     "output_type": "execute_result"
    }
   ],
   "source": [
    "fp = valueDcts[1]\n",
    "fp[x].expand()"
   ]
  },
  {
   "cell_type": "code",
   "execution_count": 67,
   "metadata": {},
   "outputs": [
    {
     "data": {
      "text/latex": [
       "$\\displaystyle \\frac{1.0 \\sqrt{k_{1}} \\sqrt{0.25 k_{1} k_{2} - k_{3} k_{4}}}{\\sqrt{k_{2}} k_{3}} + \\frac{0.5 k_{1}}{k_{3}}$"
      ],
      "text/plain": [
       "1.0*sqrt(k_1)*sqrt(0.25*k_1*k_2 - k_3*k_4)/(sqrt(k_2)*k_3) + 0.5*k_1/k_3"
      ]
     },
     "execution_count": 67,
     "metadata": {},
     "output_type": "execute_result"
    }
   ],
   "source": [
    "fp = valueDcts[2]\n",
    "fp[x].expand()"
   ]
  },
  {
   "cell_type": "code",
   "execution_count": 68,
   "metadata": {},
   "outputs": [
    {
     "data": {
      "text/latex": [
       "$\\displaystyle - \\frac{1.0 \\sqrt{k_{1}} \\sqrt{k_{2}} \\sqrt{0.25 k_{1} k_{2} - k_{3} k_{4}}}{k_{3}^{2}} + \\frac{0.5 k_{1} k_{2}}{k_{3}^{2}} - \\frac{1.0 k_{4}}{k_{3}}$"
      ],
      "text/plain": [
       "-1.0*sqrt(k_1)*sqrt(k_2)*sqrt(0.25*k_1*k_2 - k_3*k_4)/k_3**2 + 0.5*k_1*k_2/k_3**2 - 1.0*k_4/k_3"
      ]
     },
     "execution_count": 68,
     "metadata": {},
     "output_type": "execute_result"
    }
   ],
   "source": [
    "fp = valueDcts[1]\n",
    "fp[y].expand()"
   ]
  },
  {
   "cell_type": "code",
   "execution_count": 69,
   "metadata": {},
   "outputs": [
    {
     "data": {
      "text/latex": [
       "$\\displaystyle \\frac{1.0 \\sqrt{k_{1}} \\sqrt{k_{2}} \\sqrt{0.25 k_{1} k_{2} - k_{3} k_{4}}}{k_{3}^{2}} + \\frac{0.5 k_{1} k_{2}}{k_{3}^{2}} - \\frac{1.0 k_{4}}{k_{3}}$"
      ],
      "text/plain": [
       "1.0*sqrt(k_1)*sqrt(k_2)*sqrt(0.25*k_1*k_2 - k_3*k_4)/k_3**2 + 0.5*k_1*k_2/k_3**2 - 1.0*k_4/k_3"
      ]
     },
     "execution_count": 69,
     "metadata": {},
     "output_type": "execute_result"
    }
   ],
   "source": [
    "fp = valueDcts[2]\n",
    "fp[y].expand()"
   ]
  },
  {
   "cell_type": "markdown",
   "metadata": {},
   "source": [
    "## When are fixed points > 0?"
   ]
  },
  {
   "cell_type": "markdown",
   "metadata": {},
   "source": [
    "### Value of $x$"
   ]
  },
  {
   "cell_type": "code",
   "execution_count": 86,
   "metadata": {},
   "outputs": [
    {
     "data": {
      "text/latex": [
       "$\\displaystyle - \\frac{1.0 \\sqrt{k_{1}} \\sqrt{0.25 k_{1} k_{2} - k_{3} k_{4}}}{\\sqrt{k_{2}} k_{3}} + \\frac{0.5 k_{1}}{k_{3}}$"
      ],
      "text/plain": [
       "-1.0*sqrt(k_1)*sqrt(0.25*k_1*k_2 - k_3*k_4)/(sqrt(k_2)*k_3) + 0.5*k_1/k_3"
      ]
     },
     "execution_count": 86,
     "metadata": {},
     "output_type": "execute_result"
    }
   ],
   "source": [
    "# Evaluation of x^* for fixed point 1\n",
    "fp = valueDcts[1]\n",
    "expandedX = fp[x].expand()\n",
    "expandedX"
   ]
  },
  {
   "cell_type": "markdown",
   "metadata": {},
   "source": [
    "This is equivalent to the following."
   ]
  },
  {
   "cell_type": "code",
   "execution_count": 83,
   "metadata": {},
   "outputs": [
    {
     "data": {
      "text/latex": [
       "$\\displaystyle 0.25 k_{1} k_{2} > 0.25 k_{1} k_{2} - 1.0 k_{3} k_{4}$"
      ],
      "text/plain": [
       "0.25*k_1*k_2 > 0.25*k_1*k_2 - 1.0*k_3*k_4"
      ]
     },
     "execution_count": 83,
     "metadata": {},
     "output_type": "execute_result"
    }
   ],
   "source": [
    "inequality = (k_2 * k_3 * expandedX.args[0]) **2 / (k_1 * k_2) > (k_2 * k_3 * expandedX.args[1]) ** 2 / (k_1 * k_2)\n",
    "inequality"
   ]
  },
  {
   "cell_type": "markdown",
   "metadata": {},
   "source": [
    "Since all $k > 0 $, $x^{\\star} > 0$."
   ]
  },
  {
   "cell_type": "markdown",
   "metadata": {},
   "source": [
    "### Value of $y$"
   ]
  },
  {
   "cell_type": "code",
   "execution_count": 117,
   "metadata": {},
   "outputs": [
    {
     "data": {
      "text/latex": [
       "$\\displaystyle - \\frac{1.0 \\sqrt{k_{1}} \\sqrt{k_{2}} \\sqrt{0.25 k_{1} k_{2} - k_{3} k_{4}}}{k_{3}^{2}} + \\frac{0.5 k_{1} k_{2}}{k_{3}^{2}} - \\frac{1.0 k_{4}}{k_{3}} > 0$"
      ],
      "text/plain": [
       "-1.0*sqrt(k_1)*sqrt(k_2)*sqrt(0.25*k_1*k_2 - k_3*k_4)/k_3**2 + 0.5*k_1*k_2/k_3**2 - 1.0*k_4/k_3 > 0"
      ]
     },
     "execution_count": 117,
     "metadata": {},
     "output_type": "execute_result"
    }
   ],
   "source": [
    "# Evaluation of y^* for fixed point 1. This should be greater than 0.\n",
    "fp = valueDcts[1]\n",
    "expandedY = fp[y].expand()\n",
    "expandedY > 0"
   ]
  },
  {
   "cell_type": "code",
   "execution_count": 106,
   "metadata": {},
   "outputs": [
    {
     "data": {
      "text/latex": [
       "$\\displaystyle 0.5 > \\frac{1.0 k_{3} k_{4}}{k_{1} k_{2}} - \\frac{1.0 \\sqrt{0.25 k_{1} k_{2} - k_{3} k_{4}}}{\\sqrt{k_{1}} \\sqrt{k_{2}}}$"
      ],
      "text/plain": [
       "0.5 > 1.0*k_3*k_4/(k_1*k_2) - 1.0*sqrt(0.25*k_1*k_2 - k_3*k_4)/(sqrt(k_1)*sqrt(k_2))"
      ]
     },
     "execution_count": 106,
     "metadata": {},
     "output_type": "execute_result"
    }
   ],
   "source": [
    "su.addSymbols(\"k_5\")  # k_5 = k_3 * k_4 /(k_1 * k_2)\n",
    "term = k_3 **2 / (k_1 * k_2)\n",
    "# lhs = term * expandedY.args[1]\n",
    "rhs = term * expandedY.args[0] - term * expandedY.args[2]\n",
    "rhs = rhs.subs(k_3 * k_4 /(k_1 * k_2), k_5)\n",
    "term * expandedY.args[1] > - sympy.simplify(term * expandedY.args[0] - term * expandedY.args[2])"
   ]
  },
  {
   "cell_type": "code",
   "execution_count": 107,
   "metadata": {},
   "outputs": [
    {
     "data": {
      "text/latex": [
       "$\\displaystyle k_{5} - \\sqrt{0.25 - k_{5}} < 0.5$"
      ],
      "text/plain": [
       "k_5 - sqrt(0.25 - k_5) < 0.5"
      ]
     },
     "execution_count": 107,
     "metadata": {},
     "output_type": "execute_result"
    }
   ],
   "source": [
    "# Re-written\n",
    "0.5 > k_5 - sympy.sqrt(0.25  - k_5)"
   ]
  },
  {
   "cell_type": "code",
   "execution_count": 108,
   "metadata": {},
   "outputs": [
    {
     "data": {
      "text/latex": [
       "$\\displaystyle - \\sqrt{0.25 - k_{5}} < 0.5 - k_{5}$"
      ],
      "text/plain": [
       "-sqrt(0.25 - k_5) < 0.5 - k_5"
      ]
     },
     "execution_count": 108,
     "metadata": {},
     "output_type": "execute_result"
    }
   ],
   "source": [
    "-sympy.sqrt(0.25  - k_5) < 0.5 - k_5"
   ]
  },
  {
   "cell_type": "code",
   "execution_count": 109,
   "metadata": {},
   "outputs": [
    {
     "data": {
      "text/latex": [
       "$\\displaystyle k_{5} - 0.5 < \\sqrt{0.25 - k_{5}}$"
      ],
      "text/plain": [
       "k_5 - 0.5 < sqrt(0.25 - k_5)"
      ]
     },
     "execution_count": 109,
     "metadata": {},
     "output_type": "execute_result"
    }
   ],
   "source": [
    "k_5 - 0.5 < sympy.sqrt(0.25  - k_5)"
   ]
  },
  {
   "cell_type": "markdown",
   "metadata": {},
   "source": [
    "This is true for $k_5 \\in [0, 0.25]$. If $k_5 > 0.25$, there is no real solution."
   ]
  },
  {
   "cell_type": "markdown",
   "metadata": {},
   "source": [
    "### Evaluation of fixed points"
   ]
  },
  {
   "cell_type": "markdown",
   "metadata": {},
   "source": [
    "Plot for values of $k_5$ outside the operating region."
   ]
  }
 ],
 "metadata": {
  "colab": {
   "authorship_tag": "ABX9TyN+jUQTGRg8ACyAQWOHz46j",
   "collapsed_sections": [],
   "name": "Integral Control Analysis.ipynb",
   "provenance": [],
   "toc_visible": true
  },
  "kernelspec": {
   "display_name": "Python 3",
   "language": "python",
   "name": "python3"
  },
  "language_info": {
   "codemirror_mode": {
    "name": "ipython",
    "version": 3
   },
   "file_extension": ".py",
   "mimetype": "text/x-python",
   "name": "python",
   "nbconvert_exporter": "python",
   "pygments_lexer": "ipython3",
   "version": "3.6.9"
  },
  "toc-showcode": false
 },
 "nbformat": 4,
 "nbformat_minor": 4
}
