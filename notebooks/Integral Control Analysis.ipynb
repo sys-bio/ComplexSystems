{
 "cells": [
  {
   "cell_type": "markdown",
   "metadata": {
    "id": "ZRA_SLfa0KTa"
   },
   "source": [
    "# Integral Control Analysis"
   ]
  },
  {
   "cell_type": "markdown",
   "metadata": {
    "id": "6DI1yNOd0PI5"
   },
   "source": [
    "# Preliminaries"
   ]
  },
  {
   "cell_type": "markdown",
   "metadata": {},
   "source": [
    "## Imports"
   ]
  },
  {
   "cell_type": "code",
   "execution_count": 1,
   "metadata": {
    "executionInfo": {
     "elapsed": 39768,
     "status": "ok",
     "timestamp": 1620740149477,
     "user": {
      "displayName": "Joseph Hellerstein",
      "photoUrl": "https://lh3.googleusercontent.com/a-/AOh14Ggr-yAwbfqFCOlFTHoKepUYJ9VjZuCGILW-YdHvUQ=s64",
      "userId": "07301174361489660166"
     },
     "user_tz": 240
    },
    "id": "bYlTQg0n0S8d"
   },
   "outputs": [],
   "source": [
    "import collections\n",
    "import tellurium as te\n",
    "import sympy\n",
    "from IPython.display import Image\n",
    "from IPython.core.display import HTML \n",
    "import matplotlib.pyplot as plt\n",
    "import numpy as np\n",
    "from common_python.sympy import sympyUtil as su\n",
    "from common_python.ODEModel.ODEModel import ODEModel"
   ]
  },
  {
   "cell_type": "markdown",
   "metadata": {},
   "source": [
    "## Constants"
   ]
  },
  {
   "cell_type": "code",
   "execution_count": null,
   "metadata": {},
   "outputs": [],
   "source": [
    "def initSymbols():\n",
    "    symbols = \"dA A A_ref K_AN K_AM N K_PA K_MP rd_A rd_A1 K1 K2 K3 K4 K_A2 Kd_A Kd_M Kd_P K_Mp A M Mp dP P K_P k_0 M dM K_M rd_M k_0\"\n",
    "    su.addSymbols(symbols, dct=globals())\n",
    "\n",
    "initSymbols()\n",
    "EQUATION_VARS = [P, M, A]"
   ]
  },
  {
   "cell_type": "code",
   "execution_count": null,
   "metadata": {},
   "outputs": [],
   "source": [
    "STATE_DCT = {\n",
    "     A: K_AN * N - Kd_A * A * M,\n",
    "     P: K_PA * A - k_0,\n",
    "     M: K_MP * P - Kd_M * M,\n",
    "}\n",
    "SUBS = {Kd_A: 1, K_MP: 1, K_PA: 1, k_0: 2.0, Kd_M: 1, N: 1, K_AN: 1, Kd_M: 1, Kd_A: 1, Kd_P: 1, K_AM: 1}"
   ]
  },
  {
   "cell_type": "markdown",
   "metadata": {
    "id": "UzypYn5RUEgj"
   },
   "source": [
    "# Helper Functions"
   ]
  },
  {
   "cell_type": "code",
   "execution_count": null,
   "metadata": {},
   "outputs": [],
   "source": []
  },
  {
   "cell_type": "code",
   "execution_count": null,
   "metadata": {
    "executionInfo": {
     "elapsed": 39766,
     "status": "ok",
     "timestamp": 1620740149480,
     "user": {
      "displayName": "Joseph Hellerstein",
      "photoUrl": "https://lh3.googleusercontent.com/a-/AOh14Ggr-yAwbfqFCOlFTHoKepUYJ9VjZuCGILW-YdHvUQ=s64",
      "userId": "07301174361489660166"
     },
     "user_tz": 240
    },
    "id": "6ZOog-114stT"
   },
   "outputs": [],
   "source": [
    "def mkSymbolStmt(symbolStr):\n",
    "  \"\"\"\n",
    "  Creaes an executable statement that defines the blank separated symbols in the string.\n",
    "  \"\"\"\n",
    "  symbols = symbolStr.split(\" \")\n",
    "  quotedStrs = [\"%s\" %s for s in symbols]\n",
    "  argStrs = \", \".join(symbols)\n",
    "  return \"%s = sympy.symbols(%s)\" % (argStrs, quotedStrs)\n",
    "\n",
    "# Tests\n",
    "variables = [\"aa\", \"bbb\", \"fruit\"]\n",
    "symbolStr = \" \".join(variables)\n",
    "stmt = mkSymbolStmt(symbolStr)\n",
    "exec(stmt)\n",
    "for variable in variables:\n",
    "  assert(variable in locals())\n",
    "  delStmt = \"del %s\" % variable\n",
    "  exec(delStmt)"
   ]
  },
  {
   "cell_type": "code",
   "execution_count": null,
   "metadata": {},
   "outputs": [],
   "source": [
    "def evaluate(expression, subs):\n",
    "    result = expression.copy()\n",
    "    for symbol, value in subs.items():\n",
    "        result = result.subs(symbol, value)\n",
    "    return sympy.simplify(result)\n",
    "\n",
    "# Tests\n",
    "initSymbols()\n",
    "dA = A + A * M\n",
    "result = evaluate(dA, {A: 1})\n",
    "assert(result == 1 + M)"
   ]
  },
  {
   "cell_type": "code",
   "execution_count": null,
   "metadata": {},
   "outputs": [],
   "source": [
    "def initEquations():\n",
    "  \"\"\"\n",
    "  Constructs equations for network A where M inhibits A\n",
    "  \"\"\"\n",
    "  statements = [\n",
    "      \"dA = K_AN * N - Kd_A * A * M\",\n",
    "      \"dP = K_PA * A - k_0 \",\n",
    "      \"dM = K_MP * P - Kd_M * M\",\n",
    "      \"equationDct = {A: dA, P: dP, M: dM}\",\n",
    "  ]\n",
    "  return \"; \".join(statements)\n",
    "\n",
    "exec(initEquations())"
   ]
  },
  {
   "cell_type": "code",
   "execution_count": null,
   "metadata": {},
   "outputs": [],
   "source": [
    "def mkEquationVec(equationDct, equationVars=[P, M, A]):\n",
    "    return sympy.Matrix([equationDct[s] for s in equationVars])\n",
    "\n",
    "# Tests\n",
    "exec(initEquations())\n",
    "vec = mkEquationVec(equationDct)\n",
    "assert(len(vec) == 3)\n",
    "assert(isinstance(vec, sympy.Matrix))"
   ]
  },
  {
   "cell_type": "code",
   "execution_count": null,
   "metadata": {},
   "outputs": [],
   "source": [
    "def calcJacobian(equationDct, fixedDct, equationVars=[P, M, A], **kwargs):\n",
    "    \"\"\"\n",
    "    Calculates the Jacobian at the fixed point and evaluates it.\n",
    "    \n",
    "    Parameters\n",
    "    ----------\n",
    "    equationDct: key: Symbol, value: expression\n",
    "    fixedDct: key: Symbol, value: expression/number\n",
    "    varVec: vector of variable (symbols) that correspond to the equations\n",
    "    kwargs: dict\n",
    "        optional arguments for evaluate\n",
    "        \n",
    "    Returns\n",
    "    -------\n",
    "    sympy.Matrix\n",
    "    \"\"\"\n",
    "    equationVec = mkEquationVec(equationDct, equationVars)\n",
    "    # Calculate fixed points and eigenvectors\n",
    "    jacobianMat = equationVec.jacobian(equationVars)\n",
    "    jacobianMat = su.evaluate(jacobianMat, subs=fixedDct, isNumpy=False)\n",
    "    if len(kwargs) > 0:\n",
    "        jacobianMat = su.evaluate(jacobianMat, **kwargs)\n",
    "    return jacobianMat\n",
    "\n",
    "# Tests\n",
    "exec(initEquations())\n",
    "fixedDct = {A:101, M: 1001}\n",
    "resultMat = calcJacobian(equationDct , fixedDct, isNumpy=False)\n",
    "assert(resultMat[2, 2] == -1001.0 * Kd_A)\n",
    "assert((resultMat.rows == 3) and (resultMat.cols ==3))"
   ]
  },
  {
   "cell_type": "code",
   "execution_count": null,
   "metadata": {},
   "outputs": [],
   "source": [
    "# eqn: equations for model\n",
    "# var: variable names\n",
    "# fps: list-FixedPointInfo\n",
    "# jac: jacobian\n",
    "# eig: eigenvalues\n",
    "# fp: list-dct of fixed points\n",
    "ModelInfo = collections.namedtuple(\"ModelInfo\", \"eqn var fps\")\n",
    "FixedPointInfo = collections.namedtuple(\"FixedPointInfo\", \"jac eig fp\")\n",
    "def calcModelInfo(equationDct, equationVars=EQUATION_VARS, subs={}):\n",
    "    \"\"\"\n",
    "    Construct various information for a model.\n",
    "    \n",
    "    Parameters\n",
    "    ----------\n",
    "    equationDct: dict\n",
    "        key: state\n",
    "        value: expression\n",
    "    equationVars: list-symbol\n",
    "        state variables\n",
    "    subs: dict\n",
    "    \n",
    "    Returns\n",
    "    -------\n",
    "    ModelInfo\n",
    "    \"\"\"\n",
    "    def mkFixedDcts(fixedPoints):\n",
    "        def mkDct(points):\n",
    "            if isinstance(points, dict):\n",
    "                return points\n",
    "            return {v: p for p, v in zip(points, equationVars)}\n",
    "        #\n",
    "        if isinstance(fixedPoints, dict):\n",
    "            fixedDcts = [mkDct(fixedPoints)]\n",
    "        else:\n",
    "            fixedDcts = []\n",
    "            for fixedPoint in fixedPoints:\n",
    "                fixedDcts.append(mkDct(fixedPoint))\n",
    "        return fixedDcts\n",
    "    #\n",
    "    modelInfos = []\n",
    "    equationVec = mkEquationVec(equationDct, equationVars)\n",
    "    # Calculate the fixed points\n",
    "    fixedPoints = sympy.solve(equationVec, equationVars)\n",
    "    fixedDcts = mkFixedDcts(fixedPoints)\n",
    "    # Calculate the Jacobian\n",
    "    fps = []\n",
    "    for fixedDct in fixedDcts:\n",
    "        jacobianMat = calcJacobian(equationDct, fixedDct, isNumpy=False)\n",
    "        eigenValues = list(jacobianMat.eigenvals().keys())\n",
    "        fps.append(FixedPointInfo(fp=fixedDct, jac=jacobianMat, eig=eigenValues))\n",
    "    # Construct the ModelInfo\n",
    "    return ModelInfo(eqn=equationDct, var=equationVars, fps=fps)\n",
    "\n",
    "# Tests\n",
    "exec(initEquations())\n",
    "result = calcModelInfo(equationDct)\n",
    "eigenvalues = [su.evaluate(e, subs=SUBS) for e in result.fps[0].eig]\n",
    "assert(eigenvalues[0] < 0)\n",
    "assert(len(eigenvalues) == 3)"
   ]
  },
  {
   "cell_type": "markdown",
   "metadata": {
    "id": "7NL7TQYj0YRD"
   },
   "source": [
    "# Implementation of integral feedback control in biological systems\n",
    "## Reference\n",
    "Authors: \n",
    "Somvanshi, Pramod R.\n",
    "Patel, Anilkumar K.\n",
    "Bhartiya, Sharad\n",
    "Venkatesh, K. V.\n",
    "\n",
    "Date: 2015"
   ]
  },
  {
   "cell_type": "markdown",
   "metadata": {
    "id": "bEfb0wew082U"
   },
   "source": [
    "## Analysis"
   ]
  },
  {
   "cell_type": "markdown",
   "metadata": {
    "id": "WjfdkBmI3dPz"
   },
   "source": [
    "[Feedback Designs](https://drive.google.com/file/d/1GT2hfqxUAo8iiLutB4ccp_mMl59KB8OH/view?usp=sharing)\n",
    "\n",
    "* $P$ - protein\n",
    "* $A$ - signaling molecule\n",
    "* $M$ - metabolite\n",
    "* $N$ - disturbance\n",
    "* $E = A_{ref} - A$\n",
    "* $A_{ref} = \\frac{k_0}{K_P}$"
   ]
  },
  {
   "cell_type": "markdown",
   "metadata": {},
   "source": [
    "* $P \\xrightarrow{k_0}\\phi$\n",
    "* $\\phi \\xrightarrow{K_M P} M$\n",
    "* $A \\xrightarrow{Kd_A A M} \\phi$\n",
    "* $N \\xrightarrow{K_A} A$\n",
    "* $\\phi \\xrightarrow{K_P A} P$"
   ]
  },
  {
   "cell_type": "code",
   "execution_count": null,
   "metadata": {},
   "outputs": [],
   "source": [
    "NET_A = \"\"\"\n",
    "\n",
    "J1: P -> ; k_0\n",
    "J3: -> P; K_P * A\n",
    "J2: -> M; K_M * P\n",
    "J2a: M ->; Kd_M * M\n",
    "J4: A -> ; Kd_A * A * M\n",
    "J5: $N -> A; K_A * N\n",
    "\n",
    "$N = 1\n",
    "P = 100\n",
    "M = 1\n",
    "A = 1\n",
    "K_N = 1\n",
    "k_0 = 1\n",
    "K_M = 1\n",
    "Kd_M = 1\n",
    "K_P = 1\n",
    "Kd_A = 1\n",
    "K_A = 1\n",
    "\"\"\"\n",
    "\n",
    "rr = te.loada(NET_A)\n",
    "rr.plot(rr.simulate(0, 1000, 100), title=\"N=%d\" % rr.N)\n",
    "print(\"Final A = %2.2f\" % rr.A)"
   ]
  },
  {
   "cell_type": "markdown",
   "metadata": {},
   "source": [
    "### Revised Network A"
   ]
  },
  {
   "cell_type": "code",
   "execution_count": null,
   "metadata": {},
   "outputs": [],
   "source": [
    "# Have a source of A other than N\n",
    "NET_A1 = \"\"\"\n",
    "\n",
    "J1: P -> ; k_0\n",
    "J3: -> P; K_P * A\n",
    "J2: -> M; K_M * P\n",
    "J2a: M ->; Kd_M * M\n",
    "J4: A -> ; Kd_A * A * M\n",
    "J4a: -> A; k_1\n",
    "J5: $N -> A; K_A * N\n",
    "\n",
    "$N = 1\n",
    "P = 1\n",
    "M = 1\n",
    "A = 1\n",
    "K_N = 1\n",
    "k_0 = 1\n",
    "K_M = 1\n",
    "Kd_M = 1\n",
    "K_P = 1\n",
    "Kd_A = 1\n",
    "K_A = 1\n",
    "k_1 = 1\n",
    "\"\"\"\n",
    "\n",
    "rr = te.loada(NET_A1)\n",
    "rr.plot(rr.simulate(0, 30, 100), title=\"N=%d\" % rr.N)\n",
    "print(\"Final A = %2.2f\" % rr.A)"
   ]
  },
  {
   "cell_type": "markdown",
   "metadata": {},
   "source": [
    "### Changing $k_0$"
   ]
  },
  {
   "cell_type": "markdown",
   "metadata": {},
   "source": [
    "Vary k_0 from 0.5 to 3.\n",
    "Plot fixed points and how they change type."
   ]
  },
  {
   "cell_type": "code",
   "execution_count": null,
   "metadata": {},
   "outputs": [],
   "source": [
    "# Have a source of A other than N\n",
    "NET_A1 = \"\"\"\n",
    "\n",
    "J1: P -> ; k_0\n",
    "J3: -> P; K_P * A\n",
    "J2: -> M; K_M * P\n",
    "J2a: M ->; Kd_M * M\n",
    "J4: A -> ; Kd_A * A * M\n",
    "J4a: -> A; k_1\n",
    "J5: $N -> A; K_A * N\n",
    "\n",
    "$N = 1\n",
    "P = 1\n",
    "M = 1\n",
    "A = 1\n",
    "K_N = 1\n",
    "k_0 = 1\n",
    "K_M = 1\n",
    "Kd_M = 1\n",
    "K_P = 1\n",
    "Kd_A = 1\n",
    "K_A = 1\n",
    "k_1 = 1\n",
    "\"\"\"\n",
    "\n",
    "rr = te.loada(NET_A1)\n",
    "rr.plot(rr.simulate(0, 30, 100), title=\"N=%d\" % rr.N)\n",
    "print(\"Final A = %2.2f\" % rr.A)"
   ]
  },
  {
   "cell_type": "code",
   "execution_count": null,
   "metadata": {},
   "outputs": [],
   "source": [
    "K0_VALS = [0.5, 0.75, 1.0, 1.5, 2.0, 2.5]"
   ]
  },
  {
   "cell_type": "code",
   "execution_count": null,
   "metadata": {},
   "outputs": [],
   "source": [
    "def plotk0(model, k0Vals=K0_VALS):\n",
    "    numCol = 3\n",
    "    fig, axes = plt.subplots(2, numCol, figsize=(12, 10))\n",
    "    for idx, k_0 in enumerate(k0Vals):\n",
    "        if idx < numCol:\n",
    "            ax = axes[0, idx]\n",
    "        else:\n",
    "            ax = axes[1, idx - numCol]\n",
    "        rr =  te.loada(model)\n",
    "        rr.k_0 = k_0\n",
    "        data = rr.simulate(0, 30, 100)\n",
    "        xv = data[:, 0]\n",
    "        columns = [s[1:-1] for s in data.colnames[1:]]\n",
    "        for idx1, column in enumerate(columns):\n",
    "            ax.plot(xv, data[:, idx1+1])\n",
    "        ax.plot(xv, np.repeat(k_0, len(xv)), linestyle=\"--\", color=\"black\")\n",
    "        if idx == 0:\n",
    "            ax.legend(columns)\n",
    "        if idx == numCol:\n",
    "            ax.set_xlabel(\"time\")\n",
    "            ax.set_ylabel(\"value\")\n",
    "        ax.set_title(\"k_0=%2.2f\" % k_0)\n",
    "        ax.set_ylim([0, 8])\n",
    "        \n",
    "# Tests\n",
    "plotk0(NET_A1)"
   ]
  },
  {
   "cell_type": "code",
   "execution_count": null,
   "metadata": {},
   "outputs": [],
   "source": [
    "def calcEigenVals(xVec, dxVec, subs):\n",
    "    \"\"\"\n",
    "    Calculates the eigenvectors of the linearized derivative matrix\n",
    "    at the substituted values.\n",
    "    \n",
    "    Parameters\n",
    "    ----------\n",
    "    xVec: sympy.Mat N X 1\n",
    "        symbols for states\n",
    "    dxVec: sympy.Mat N X 1\n",
    "        expressions for derivatives of state\n",
    "    subs: dict\n",
    "        substitutions to make for eigenvalue calculation\n",
    "        key: symbol\n",
    "        value: value to use for symbol\n",
    "        \n",
    "    Returns\n",
    "    -------\n",
    "    dict\n",
    "        key: sympy.Matrix N X 1\n",
    "            fixed point\n",
    "        value: sympy.Matrix N X 1\n",
    "            eigenvalues\n",
    "    \"\"\"\n",
    "    jacobianMat = dxVec.jacobian(xVec)\n",
    "    fixedPoints = sympy.solve(dxVec, xVec)\n",
    "    dct = {}\n",
    "    jacobianMat = evaluate(jacobianMat, subs)\n",
    "    for fixedPoint in fixedPoints:\n",
    "        numericFixedPoint = tuple([sympy.simplify(evaluate(f, subs)) for f in fixedPoint])\n",
    "        fixedSubs = {s: v for s, v in zip(xVec, numericFixedPoint)}\n",
    "        mat = evaluate(jacobianMat, fixedSubs)\n",
    "        mat = evaluate(mat, subs)\n",
    "        dct[numericFixedPoint] = sympy.Matrix(list(mat.eigenvals().keys()))\n",
    "        dct[numericFixedPoint] = dct[numericFixedPoint].evalf()\n",
    "    return dct\n",
    "\n",
    "# Tests\n",
    "initSymbols()\n",
    "exec(initEquations())\n",
    "xVec = sympy.Matrix([A, P, M])\n",
    "dxVec = mkEquationVec(equationDct, equationVars=[A, P, M])\n",
    "#dxVec = sympy.Matrix(equations)\n",
    "dct = calcEigenVals(xVec, dxVec, SUBS)\n",
    "assert(list(dct.keys()) == [(2.0, 0.5, 0.5)])"
   ]
  },
  {
   "cell_type": "code",
   "execution_count": null,
   "metadata": {},
   "outputs": [],
   "source": [
    "# Analysis of fixed points\n",
    "\n",
    "subs = dict(SUBS)\n",
    "for val in K0_VALS:\n",
    "    initSymbols()\n",
    "    subs[k_0] = val\n",
    "    xVec = sympy.Matrix([A, P, M])\n",
    "    equationVec = mkEquationVec(equationDct, equationVars=xVec)\n",
    "    dxVec = sympy.Matrix(equationVec)\n",
    "    dct = calcEigenVals(xVec, dxVec, subs)\n",
    "    print(dct)"
   ]
  },
  {
   "cell_type": "markdown",
   "metadata": {},
   "source": [
    "## Network A"
   ]
  },
  {
   "cell_type": "code",
   "execution_count": null,
   "metadata": {},
   "outputs": [],
   "source": [
    "modelA = ODEModel(STATE_DCT, isEigenvecs=False)"
   ]
  },
  {
   "cell_type": "code",
   "execution_count": null,
   "metadata": {},
   "outputs": [],
   "source": [
    "for fp in modelA.fixedPoints:\n",
    "    print(fp.valueDct)\n",
    "    print(fp.getEigenvalues(subs=SUBS))\n",
    "    print(\"\\n\")"
   ]
  },
  {
   "cell_type": "markdown",
   "metadata": {},
   "source": [
    "## Network B"
   ]
  },
  {
   "cell_type": "markdown",
   "metadata": {},
   "source": [
    "Network B1 has degrdation of $P$ that depends on $P$. It has two problems:\n",
    "* Eigenvectors are a funxtion of $M$\n",
    "* Fixed points are a function of $N$"
   ]
  },
  {
   "cell_type": "code",
   "execution_count": null,
   "metadata": {},
   "outputs": [],
   "source": [
    "stateDct = dict(STATE_DCT)\n",
    "stateDct[A] = K_AN * N - Kd_A*A + K_AM * M\n",
    "stateDct[P] = -K_PA * A * M  + k_0"
   ]
  },
  {
   "cell_type": "code",
   "execution_count": null,
   "metadata": {},
   "outputs": [],
   "source": [
    "modelB1 = ODEModel(stateDct, isEigenvecs=False)"
   ]
  },
  {
   "cell_type": "code",
   "execution_count": null,
   "metadata": {},
   "outputs": [],
   "source": [
    "modelB1.jacobianMat"
   ]
  },
  {
   "cell_type": "code",
   "execution_count": null,
   "metadata": {},
   "outputs": [],
   "source": [
    "modelB1.fixedPoints[0].valueDct[P]"
   ]
  },
  {
   "cell_type": "code",
   "execution_count": null,
   "metadata": {},
   "outputs": [],
   "source": [
    " modelB1.fixedPoints[0].valueDct[M]"
   ]
  },
  {
   "cell_type": "code",
   "execution_count": null,
   "metadata": {},
   "outputs": [],
   "source": [
    " modelB1.fixedPoints[0].valueDct[A]"
   ]
  },
  {
   "cell_type": "markdown",
   "metadata": {},
   "source": [
    "Network B2 has degrdation of $P$ that does *not* depend on $P$.\n",
    "* It has a fixed point for $A$ ad $k_0 / K_{PA}$.\n",
    "* It has no dependency on the state variables, and so the dynamics are independent of the fixed point. (It is a linear system.)"
   ]
  },
  {
   "cell_type": "code",
   "execution_count": null,
   "metadata": {},
   "outputs": [],
   "source": [
    "stateDct = dict(STATE_DCT)\n",
    "stateDct[A] = K_AN * N - Kd_A*A + K_AM * M\n",
    "stateDct[P] = -K_PA * A  + k_0"
   ]
  },
  {
   "cell_type": "code",
   "execution_count": null,
   "metadata": {},
   "outputs": [],
   "source": [
    "modelB2 = ODEModel(stateDct, isEigenvecs=False)"
   ]
  },
  {
   "cell_type": "code",
   "execution_count": null,
   "metadata": {},
   "outputs": [],
   "source": [
    "modelB2.jacobianMat"
   ]
  },
  {
   "cell_type": "code",
   "execution_count": null,
   "metadata": {},
   "outputs": [],
   "source": [
    "modelB2.fixedPoints[0].valueDct[P]"
   ]
  },
  {
   "cell_type": "code",
   "execution_count": null,
   "metadata": {},
   "outputs": [],
   "source": [
    "modelB2.fixedPoints[0].valueDct[M]"
   ]
  },
  {
   "cell_type": "code",
   "execution_count": null,
   "metadata": {},
   "outputs": [],
   "source": [
    "modelB2.fixedPoints[0].valueDct[A]"
   ]
  },
  {
   "cell_type": "code",
   "execution_count": null,
   "metadata": {},
   "outputs": [],
   "source": [
    "for fp in modelB2.fixedPoints:\n",
    "    print(fp.getEigenvalues(subs=SUBS))"
   ]
  },
  {
   "cell_type": "code",
   "execution_count": null,
   "metadata": {},
   "outputs": [],
   "source": [
    "# Have a source of A other than N\n",
    "NET_B1 = \"\"\"\n",
    "\n",
    "J1: -> P ; k_0\n",
    "J3: P -> ; K_PA * A * P\n",
    "J2: -> M; K_MP * P\n",
    "J2a: M ->; Kd_M * M\n",
    "J4: A -> ; Kd_A * A\n",
    "J4a: -> A; K_AM*M\n",
    "J5: $N -> A; K_AN * N\n",
    "\n",
    "$N = 0\n",
    "P = 0\n",
    "M = 0\n",
    "A = 0\n",
    "K_AN = 1\n",
    "k_0 = 5\n",
    "K_MP = 1\n",
    "Kd_M = 1\n",
    "K_PA = 1\n",
    "Kd_A = 1\n",
    "K_AM = 1\n",
    "\"\"\"\n",
    "\n",
    "rr = te.loada(NET_B1)\n",
    "rr.plot(rr.simulate(0, 30, 100), title=\"N=%d\" % rr.N)\n",
    "print(\"Final A = %2.2f\" % rr.A)"
   ]
  },
  {
   "cell_type": "code",
   "execution_count": null,
   "metadata": {},
   "outputs": [],
   "source": [
    "plotk0(NET_B1)"
   ]
  },
  {
   "cell_type": "code",
   "execution_count": null,
   "metadata": {},
   "outputs": [],
   "source": [
    "# Have a source of A other than N\n",
    "NET_B2 = \"\"\"\n",
    "\n",
    "J1: -> P ; k_0\n",
    "J3: P -> ; K_PA * A\n",
    "J2: -> M; K_MP * P\n",
    "J2a: M ->; Kd_M * M\n",
    "J4: A -> ; Kd_A * A\n",
    "J4a: -> A; K_AM*M\n",
    "J5: $N -> A; K_AN * N\n",
    "\n",
    "$N = 0\n",
    "P = 0\n",
    "M = 0\n",
    "A = 0\n",
    "K_AN = 1\n",
    "k_0 = 5\n",
    "K_MP = 1\n",
    "Kd_M = 1\n",
    "K_PA = 1\n",
    "Kd_A = 1\n",
    "K_AM = 1\n",
    "\"\"\"\n",
    "\n",
    "rr = te.loada(NET_B2)\n",
    "rr.plot(rr.simulate(0, 30, 100), title=\"N=%d\" % rr.N)\n",
    "print(\"Final A = %2.2f\" % rr.A)"
   ]
  },
  {
   "cell_type": "code",
   "execution_count": null,
   "metadata": {},
   "outputs": [],
   "source": [
    "plotk0(NET_B2)"
   ]
  },
  {
   "cell_type": "markdown",
   "metadata": {},
   "source": [
    "**Observations**\n",
    "1. Can change $k_0$ without affect Jacobian. However, fixed point depends on $k_0$, and so dynamics are still impacted if there is a change in the setpoint."
   ]
  },
  {
   "cell_type": "markdown",
   "metadata": {},
   "source": [
    "## Network C"
   ]
  },
  {
   "cell_type": "code",
   "execution_count": null,
   "metadata": {
    "colab": {
     "base_uri": "https://localhost:8080/",
     "height": 58
    },
    "executionInfo": {
     "elapsed": 40829,
     "status": "ok",
     "timestamp": 1620740150571,
     "user": {
      "displayName": "Joseph Hellerstein",
      "photoUrl": "https://lh3.googleusercontent.com/a-/AOh14Ggr-yAwbfqFCOlFTHoKepUYJ9VjZuCGILW-YdHvUQ=s64",
      "userId": "07301174361489660166"
     },
     "user_tz": 240
    },
    "id": "dASUz0XECDdy",
    "outputId": "ed2d7611-f024-4546-beda-9ffd14e7587b"
   },
   "outputs": [],
   "source": [
    "# Design 1(c): Both M and E inhibit A. Again, need a constant influx so that steady states can be achieved.\n",
    "exec(initEquations())\n",
    "dA = - K_AN * N - Kd_A * M + K1\n",
    "#\n",
    "result = sympy.solve([dP, dM, dA], [P, M, A])\n",
    "result"
   ]
  },
  {
   "cell_type": "markdown",
   "metadata": {},
   "source": [
    "## Network D"
   ]
  },
  {
   "cell_type": "code",
   "execution_count": null,
   "metadata": {
    "colab": {
     "base_uri": "https://localhost:8080/",
     "height": 58
    },
    "executionInfo": {
     "elapsed": 40826,
     "status": "ok",
     "timestamp": 1620740150572,
     "user": {
      "displayName": "Joseph Hellerstein",
      "photoUrl": "https://lh3.googleusercontent.com/a-/AOh14Ggr-yAwbfqFCOlFTHoKepUYJ9VjZuCGILW-YdHvUQ=s64",
      "userId": "07301174361489660166"
     },
     "user_tz": 240
    },
    "id": "FyoGNpPxCd9_",
    "outputId": "7e15369d-fefc-4300-a310-66223d508816"
   },
   "outputs": [],
   "source": [
    "# Design 1(d): E inhibits A; A inhibits P; M activates A\n",
    "exec(initEquations())\n",
    "dA = K_AM * M - K_AN * N - Kd_A * A\n",
    "dP = -K_PA * A + k_0  # Since A inhibits, need 0th order kinetics for creation of P\n",
    "#\n",
    "result = sympy.solve([dP, dM, dA], [P, M, A])\n",
    "result"
   ]
  },
  {
   "cell_type": "markdown",
   "metadata": {
    "id": "HWYIVIivHgT7"
   },
   "source": [
    "Can construct a table with cases defined by:\n",
    "* E on A\n",
    "* M on A\n",
    "* A on P"
   ]
  },
  {
   "cell_type": "markdown",
   "metadata": {
    "id": "B27NwfrnH1oU"
   },
   "source": [
    "Theme: Systematic design of integral control based on:\n",
    "1. the placement of inhibit vs. activate and use of 0th order kinetics\n",
    "1. which term(s) have 0th order kinetics"
   ]
  },
  {
   "cell_type": "markdown",
   "metadata": {},
   "source": [
    "## Tracking for Architecture (a)"
   ]
  },
  {
   "cell_type": "code",
   "execution_count": null,
   "metadata": {},
   "outputs": [],
   "source": [
    "exec(initEquations())\n",
    "dP = K_P * A - k_0 * A_ref\n",
    "result = sympy.solve([dP, dM, dA], [P, M, A])\n",
    "result"
   ]
  },
  {
   "cell_type": "code",
   "execution_count": null,
   "metadata": {},
   "outputs": [],
   "source": [
    "TRACKING_MODEL_A = \"\"\"\n",
    "->P; K_P*A\n",
    "P -> A; K_P * P\n",
    "A -> P; -KA_1 * A\n",
    "A ->; KA * $M\n",
    "// E -> A; KE * A\n",
    "\n",
    "$M = 1\n",
    "KP_1 = 1\n",
    "KP_2 = 1\n",
    "KA_1 = 1\n",
    "KA = 1\n",
    "KE = 1\n",
    "K_P = 1\n",
    "\"\"\"\n",
    "\n",
    "rr = te.loada(TRACKING_MODEL_A)\n",
    "rr.plot(rr.simulate())"
   ]
  },
  {
   "cell_type": "markdown",
   "metadata": {},
   "source": [
    "# Signaling Cascades"
   ]
  },
  {
   "cell_type": "code",
   "execution_count": 24,
   "metadata": {},
   "outputs": [],
   "source": [
    "su.addSymbols(\"A_1 A_2 A_3 A_4 T_1 T_2 T_3 T_4 K_1 K_2 K_3 K_4 k_1 k_2 k_3 k_4 S_0 S_1\")"
   ]
  },
  {
   "cell_type": "code",
   "execution_count": 25,
   "metadata": {},
   "outputs": [],
   "source": [
    "# State equations\n",
    "stateDct = {\n",
    "    A_1: K_1 * S_0 * (T_1 - A_1) - k_1 * A_1,\n",
    "    A_2: K_2 * A_1 * (T_2 - A_2) - k_2 * A_2,\n",
    "    A_3: K_3 * A_2 * (T_3 - A_3) - k_3 * A_3,\n",
    "    A_4: K_4 * A_3 * (T_4 - A_4) - k_4 * A_4,\n",
    "}\n",
    "modelSig = ODEModel(stateDct, isEigenvecs=False)"
   ]
  },
  {
   "cell_type": "code",
   "execution_count": 26,
   "metadata": {},
   "outputs": [
    {
     "data": {
      "text/latex": [
       "$\\displaystyle \\frac{K_{1} S_{0} T_{1}}{K_{1} S_{0} + k_{1}}$"
      ],
      "text/plain": [
       "K_1*S_0*T_1/(K_1*S_0 + k_1)"
      ]
     },
     "execution_count": 26,
     "metadata": {},
     "output_type": "execute_result"
    }
   ],
   "source": [
    "fps = modelSig.fixedPoints\n",
    "fps[0].valueDct[A_1]"
   ]
  },
  {
   "cell_type": "code",
   "execution_count": 15,
   "metadata": {},
   "outputs": [
    {
     "data": {
      "text/latex": [
       "$\\displaystyle \\frac{K_{1} K_{2} S_{0} T_{1} T_{2}}{K_{1} K_{2} S_{0} T_{1} + K_{1} S_{0} k_{2} + k_{1} k_{2}}$"
      ],
      "text/plain": [
       "K_1*K_2*S_0*T_1*T_2/(K_1*K_2*S_0*T_1 + K_1*S_0*k_2 + k_1*k_2)"
      ]
     },
     "execution_count": 15,
     "metadata": {},
     "output_type": "execute_result"
    }
   ],
   "source": [
    "fps[0].valueDct[A_2]"
   ]
  },
  {
   "cell_type": "code",
   "execution_count": 22,
   "metadata": {},
   "outputs": [
    {
     "data": {
      "text/latex": [
       "$\\displaystyle \\frac{K_{1} K_{2} K_{3} S_{0} T_{1} T_{2} T_{3}}{K_{1} K_{2} K_{3} S_{0} T_{1} T_{2} + K_{1} K_{2} S_{0} T_{1} k_{3} + K_{1} S_{0} k_{2} k_{3} + k_{1} k_{2} k_{3}}$"
      ],
      "text/plain": [
       "K_1*K_2*K_3*S_0*T_1*T_2*T_3/(K_1*K_2*K_3*S_0*T_1*T_2 + K_1*K_2*S_0*T_1*k_3 + K_1*S_0*k_2*k_3 + k_1*k_2*k_3)"
      ]
     },
     "execution_count": 22,
     "metadata": {},
     "output_type": "execute_result"
    }
   ],
   "source": [
    "fps[0].valueDct[A_3]"
   ]
  },
  {
   "cell_type": "code",
   "execution_count": 27,
   "metadata": {},
   "outputs": [
    {
     "data": {
      "text/latex": [
       "$\\displaystyle \\frac{K_{1} K_{2} K_{3} K_{4} S_{0} T_{1} T_{2} T_{3} T_{4}}{K_{1} K_{2} K_{3} K_{4} S_{0} T_{1} T_{2} T_{3} + K_{1} K_{2} K_{3} S_{0} T_{1} T_{2} k_{4} + K_{1} K_{2} S_{0} T_{1} k_{3} k_{4} + K_{1} S_{0} k_{2} k_{3} k_{4} + k_{1} k_{2} k_{3} k_{4}}$"
      ],
      "text/plain": [
       "K_1*K_2*K_3*K_4*S_0*T_1*T_2*T_3*T_4/(K_1*K_2*K_3*K_4*S_0*T_1*T_2*T_3 + K_1*K_2*K_3*S_0*T_1*T_2*k_4 + K_1*K_2*S_0*T_1*k_3*k_4 + K_1*S_0*k_2*k_3*k_4 + k_1*k_2*k_3*k_4)"
      ]
     },
     "execution_count": 27,
     "metadata": {},
     "output_type": "execute_result"
    }
   ],
   "source": [
    "fps[0].valueDct[A_4]"
   ]
  },
  {
   "cell_type": "code",
   "execution_count": 28,
   "metadata": {},
   "outputs": [
    {
     "data": {
      "text/latex": [
       "$\\displaystyle \\left[\\begin{matrix}- K_{1} S_{0} - k_{1} & 0 & 0 & 0\\\\K_{2} \\left(- A_{2} + T_{2}\\right) & - A_{1} K_{2} - k_{2} & 0 & 0\\\\0 & K_{3} \\left(- A_{3} + T_{3}\\right) & - A_{2} K_{3} - k_{3} & 0\\\\0 & 0 & K_{4} \\left(- A_{4} + T_{4}\\right) & - A_{3} K_{4} - k_{4}\\end{matrix}\\right]$"
      ],
      "text/plain": [
       "Matrix([\n",
       "[  -K_1*S_0 - k_1,                0,                0,              0],\n",
       "[K_2*(-A_2 + T_2),   -A_1*K_2 - k_2,                0,              0],\n",
       "[               0, K_3*(-A_3 + T_3),   -A_2*K_3 - k_3,              0],\n",
       "[               0,                0, K_4*(-A_4 + T_4), -A_3*K_4 - k_4]])"
      ]
     },
     "execution_count": 28,
     "metadata": {},
     "output_type": "execute_result"
    }
   ],
   "source": [
    "modelSig.jacobianMat"
   ]
  },
  {
   "cell_type": "markdown",
   "metadata": {},
   "source": [
    "**Observations**\n",
    "1. Stable system with real eigenvectors.\n",
    "1. If $K_i >> k_i$, then $A_{i+1} / A_{i} \\approx T_{i+1}$ and so $A_n / S_0 \\approx \\prod_i T_i$"
   ]
  },
  {
   "cell_type": "markdown",
   "metadata": {
    "id": "OrhN9xnCc1yB"
   },
   "source": [
    "# Architecture II: No M"
   ]
  },
  {
   "cell_type": "code",
   "execution_count": null,
   "metadata": {
    "executionInfo": {
     "elapsed": 40824,
     "status": "ok",
     "timestamp": 1620740150572,
     "user": {
      "displayName": "Joseph Hellerstein",
      "photoUrl": "https://lh3.googleusercontent.com/a-/AOh14Ggr-yAwbfqFCOlFTHoKepUYJ9VjZuCGILW-YdHvUQ=s64",
      "userId": "07301174361489660166"
     },
     "user_tz": 240
    },
    "id": "1hscpyaMc5pl"
   },
   "outputs": [],
   "source": [
    "def init2Equations():\n",
    "  statements = [\n",
    "      \"dA = K_A * N - Kd_A * A * P\",\n",
    "      \"dP = K_P * A - k_0\",\n",
    "      \"equations = [dA, dP]\",\n",
    "  ]\n",
    "  return \"; \".join(statements)"
   ]
  },
  {
   "cell_type": "code",
   "execution_count": null,
   "metadata": {
    "colab": {
     "base_uri": "https://localhost:8080/",
     "height": 58
    },
    "executionInfo": {
     "elapsed": 40820,
     "status": "ok",
     "timestamp": 1620740150573,
     "user": {
      "displayName": "Joseph Hellerstein",
      "photoUrl": "https://lh3.googleusercontent.com/a-/AOh14Ggr-yAwbfqFCOlFTHoKepUYJ9VjZuCGILW-YdHvUQ=s64",
      "userId": "07301174361489660166"
     },
     "user_tz": 240
    },
    "id": "hdMDaAatdFyH",
    "outputId": "fde379c1-9360-4492-adfb-3f9e812a1ad7"
   },
   "outputs": [],
   "source": [
    "# Case 2(a): P inhibits A\n",
    "if False:\n",
    "    exec(init2Equations())\n",
    "    sympy.solve([dP], A)\n",
    "    # How much protein is required\n",
    "    newdA = dA.subs(A, k_0/K_P)\n",
    "    sympy.solve(newdA, P)"
   ]
  },
  {
   "cell_type": "code",
   "execution_count": null,
   "metadata": {
    "colab": {
     "base_uri": "https://localhost:8080/",
     "height": 58
    },
    "executionInfo": {
     "elapsed": 40815,
     "status": "ok",
     "timestamp": 1620740150573,
     "user": {
      "displayName": "Joseph Hellerstein",
      "photoUrl": "https://lh3.googleusercontent.com/a-/AOh14Ggr-yAwbfqFCOlFTHoKepUYJ9VjZuCGILW-YdHvUQ=s64",
      "userId": "07301174361489660166"
     },
     "user_tz": 240
    },
    "id": "4VA-AXqndhaa",
    "outputId": "f6f3e371-c278-4daf-ac29-586edad34c42"
   },
   "outputs": [],
   "source": []
  },
  {
   "cell_type": "markdown",
   "metadata": {
    "id": "riZcd_f5_b0k"
   },
   "source": [
    "# Tracking Control"
   ]
  },
  {
   "cell_type": "code",
   "execution_count": null,
   "metadata": {},
   "outputs": [],
   "source": [
    "# Can still get integral control with unimolecular degradation for A, M in A. Why biomolecular in model?\n",
    "exec(initEquations())\n",
    "dA = K_A * N - Kd_A * (A + M)\n",
    "#\n",
    "sympy.solve([dP], A)"
   ]
  },
  {
   "cell_type": "markdown",
   "metadata": {
    "id": "TJEJGBZz_fRi"
   },
   "source": [
    "Architecture: P degradation depends on tracking molecule, but it cannot change the level of the molecule."
   ]
  },
  {
   "cell_type": "code",
   "execution_count": null,
   "metadata": {
    "colab": {
     "base_uri": "https://localhost:8080/",
     "height": 265
    },
    "executionInfo": {
     "elapsed": 41569,
     "status": "ok",
     "timestamp": 1620740151332,
     "user": {
      "displayName": "Joseph Hellerstein",
      "photoUrl": "https://lh3.googleusercontent.com/a-/AOh14Ggr-yAwbfqFCOlFTHoKepUYJ9VjZuCGILW-YdHvUQ=s64",
      "userId": "07301174361489660166"
     },
     "user_tz": 240
    },
    "id": "zrJKql-tvpyn",
    "outputId": "ed652616-05e1-4bd4-c3cb-8c5f51f9bae9"
   },
   "outputs": [],
   "source": [
    "MODEL = \"\"\"\n",
    "P -> A; KP_1 * P * M\n",
    "A -> P; -KA_1 * A\n",
    "A ->; KA * $M\n",
    "// E -> A; KE * A\n",
    "\n",
    "$M = 1\n",
    "KP_1 = 1\n",
    "KP_2 = 1\n",
    "KA_1 = 1\n",
    "KA = 1\n",
    "KE = 1\n",
    "\"\"\"\n",
    "\n",
    "rr = te.loada(MODEL)\n",
    "rr.plot(rr.simulate())"
   ]
  },
  {
   "cell_type": "code",
   "execution_count": null,
   "metadata": {
    "executionInfo": {
     "elapsed": 41567,
     "status": "ok",
     "timestamp": 1620740151332,
     "user": {
      "displayName": "Joseph Hellerstein",
      "photoUrl": "https://lh3.googleusercontent.com/a-/AOh14Ggr-yAwbfqFCOlFTHoKepUYJ9VjZuCGILW-YdHvUQ=s64",
      "userId": "07301174361489660166"
     },
     "user_tz": 240
    },
    "id": "0arMHINl_pRW"
   },
   "outputs": [],
   "source": [
    "def init3Equations():\n",
    "  statements = [\n",
    "      \"dA = K_A * N - Kd_A * A * P\",\n",
    "      \"dP = K_P * A - k_0 * M\",\n",
    "      \"dM = -k_0 + K_Mp * Mp\", \n",
    "      \"dMp = K_M * M - K_Mp * Mp\",\n",
    "      \"equations = [dA, dP]\",\n",
    "  ]\n",
    "  return \"; \".join(statements)"
   ]
  },
  {
   "cell_type": "code",
   "execution_count": null,
   "metadata": {
    "colab": {
     "base_uri": "https://localhost:8080/",
     "height": 58
    },
    "executionInfo": {
     "elapsed": 41564,
     "status": "ok",
     "timestamp": 1620740151333,
     "user": {
      "displayName": "Joseph Hellerstein",
      "photoUrl": "https://lh3.googleusercontent.com/a-/AOh14Ggr-yAwbfqFCOlFTHoKepUYJ9VjZuCGILW-YdHvUQ=s64",
      "userId": "07301174361489660166"
     },
     "user_tz": 240
    },
    "id": "OaFHp_oW_yN6",
    "outputId": "3e92dff9-4981-4e40-decd-0b34813ad274"
   },
   "outputs": [],
   "source": [
    "exec(init3Equations())\n",
    "sympy.solve([dP], A)"
   ]
  },
  {
   "cell_type": "code",
   "execution_count": null,
   "metadata": {
    "colab": {
     "base_uri": "https://localhost:8080/",
     "height": 37
    },
    "executionInfo": {
     "elapsed": 41559,
     "status": "ok",
     "timestamp": 1620740151333,
     "user": {
      "displayName": "Joseph Hellerstein",
      "photoUrl": "https://lh3.googleusercontent.com/a-/AOh14Ggr-yAwbfqFCOlFTHoKepUYJ9VjZuCGILW-YdHvUQ=s64",
      "userId": "07301174361489660166"
     },
     "user_tz": 240
    },
    "id": "NGhA0kjFB_zg",
    "outputId": "f1251187-508a-4a56-afb5-de0b143c1f08"
   },
   "outputs": [],
   "source": [
    "exec(init3Equations())\n",
    "sympy.solve(equations, A)"
   ]
  },
  {
   "cell_type": "markdown",
   "metadata": {
    "id": "l_B0TxkEUia0"
   },
   "source": [
    "# Integral Control Paper 1"
   ]
  },
  {
   "cell_type": "markdown",
   "metadata": {
    "id": "GZJQgVSOUqDe"
   },
   "source": [
    "[Feedback Designs](https://drive.google.com/file/d/1mP0A5jvdlVCtdFCy6QbapDgcsWC_LzmU/view?usp=sharing)"
   ]
  },
  {
   "cell_type": "markdown",
   "metadata": {
    "id": "DDlQG1xDU90P"
   },
   "source": [
    "The system including $P$ phosphorylation and dephosphorylation.\n",
    "\n",
    "* $\\dot{S} = k_0 x_0 - k_2 P  + k_6 E$\n",
    "* $\\dot{P} = k_4 x_0 - k_7 P + k_8 Pp$. \n",
    "* $\\dot{Pp} = k_7 P - k_8 Pp$\n",
    "* $\\dot{x}_1 = k_5 S$"
   ]
  },
  {
   "cell_type": "markdown",
   "metadata": {
    "id": "0zPjdDagWXAF"
   },
   "source": [
    "**LaPlace Transforms.**\n",
    "\n",
    "$s S(s) = k_0 X_0 (s) - k_2 P(s) +k_6 E(s)$\n",
    "\n",
    "$s P(s) = k_4 X_0 (s) -k_7 P(s) + k_8 Pp(s)$\n",
    "\n",
    "$s Pp(s) = k_7 P(s) - k_8 Pp(s)$\n",
    "Or, $Pp(s) = P(s) \\frac{k_7}{s + k_8}.$\n",
    "\n",
    "So,\n",
    "\\begin{align*}\n",
    "sP(s) & = & k_4 X_0 (s) -k_7 P(s) + k_8 Pp(s) \\\\\n",
    "& = & k_4 X_0 (s) -k_7 P(s) + k_8 P(s) \\frac{k_7}{s + k_8} \\\\\n",
    "P(s)& = & X_0 (s) \\frac{k_4 }{s + k_7 - \\frac{k_7 k_8 }{s + k_8}}\n",
    "\\end{align*}\n",
    "\n",
    "With this,\n",
    "\\begin{align*}\n",
    "S(s) = X_0(s) \\frac{ k_0 - k_2 \\frac{k_4 }{s + k_7 - \\frac{k_7 k_8 }{s + k_8}}}{s + k_7} +  E(s) \\frac{k_6}{s + k_3}\n",
    "\\end{align*}\n",
    "\n",
    "\\begin{align*}\n",
    "X_1(s) & = & \\frac{k_5}{s}S(s) \\\\\n",
    "& = & X_0(s) \\frac{k_5}{s}  \\frac{ k_0  - k_2 \\frac{k_4 }{s + k_7 - \\frac{k_7 k_8 }{s + k_8}}}{s + k_7} +  E(s) \\frac{k_5}{s} \\frac{k_6}{s + k_3}\n",
    "\\end{align*}\n",
    "\n",
    "This suggests that the impulse response is finite but the step response is unbounded. Also, $x_t(t) \\neq 0$ for a non-zeror $e(t)$.\n",
    "\n",
    "Note that $k_8$ must be small for the integrator to work.\n",
    "So,\n",
    "\\begin{align*}\n",
    "X_1(s) & \\approx & X_0(s) \\frac{k_5}{s}  \\frac{ k_0 - k_2 \\frac{k_4 }{s + k_7 }}{s + k_7} +  E(s) \\frac{k_5}{s} \\frac{k_6}{s + k_3}\n",
    "\\end{align*}\n",
    "\n",
    "Observe that for an impulse $x_0$, \n",
    "$x_1 (\\infty) =  k_5 \\frac{ k_0 k_7 - k_2 k_4}{ k_7^2} .$"
   ]
  },
  {
   "cell_type": "markdown",
   "metadata": {
    "id": "ssnEu5q83Hx7"
   },
   "source": [
    "Solve for $H_E (s) = \\frac{X_1(s)}{E(s)}$.\n",
    "\n",
    "$X_0(s) = 0$\n",
    "\n",
    "$s S(s) =  - k_3 S(s) + k_6 E(s)$ And so,\n",
    "$S(s) = \\frac{k_6 E(s)}{s + k_3}$\n",
    "\n",
    "Further,\n",
    "$X_1(s) = \\frac{k_5}{s}\\frac{k_6 E(s)}{s + k_3} .$\n",
    "\n",
    "Suggest that there is an error with the impulse response, and the system does not converge with the step response."
   ]
  },
  {
   "cell_type": "markdown",
   "metadata": {
    "id": "3zJVJG31XJi9"
   },
   "source": [
    "Solve for transfer function: $H(s) = \\frac{X_1(s)}{X_0(s)}$.\n",
    "\n",
    "$s S(s) = X_0 (s) \\frac{k_0 - k_2 k_4 }{s + k_3}$\n",
    "\n",
    "$ \n",
    "\\begin{align*}\n",
    "X_1 (s) & = &  \\frac{k_5}{s} S(s) \\\\\n",
    "& = & X_0 (s) \\frac{k_5}{s^2}  \\frac{k_0 - k_2 k_4 }{s + k_3} \\\\\n",
    "H(s) & = & \\frac{1}{s^2} \\frac{k_0 - k_2 k_4 }{s + k_3}\n",
    "\\end{align*}\n",
    "$\n",
    "\n",
    "$H (0)$ is constant and so the output tracks the input. However, the system has complex dynamics."
   ]
  },
  {
   "cell_type": "code",
   "execution_count": null,
   "metadata": {
    "executionInfo": {
     "elapsed": 360,
     "status": "ok",
     "timestamp": 1620741403778,
     "user": {
      "displayName": "Joseph Hellerstein",
      "photoUrl": "https://lh3.googleusercontent.com/a-/AOh14Ggr-yAwbfqFCOlFTHoKepUYJ9VjZuCGILW-YdHvUQ=s64",
      "userId": "07301174361489660166"
     },
     "user_tz": 240
    },
    "id": "yEW7TWzQEPoo"
   },
   "outputs": [],
   "source": [
    "# Simulation\n",
    "MODEL = \"\"\"\n",
    "$X0 -> S; k0*X0 - k2*P\n",
    "S -> X1; k4*X0\n",
    "S -> P; k4*X0\n",
    "P -> Pp; k7*P\n",
    "Pp -> P; k8*Pp\n",
    "\n",
    "$X0 = 1\n",
    "k0 = 1\n",
    "k2 = 1\n",
    "k3\n",
    "\"\"\""
   ]
  },
  {
   "cell_type": "markdown",
   "metadata": {
    "id": "VujgsgVzTnMj"
   },
   "source": [
    "# Integral Paper 2\n",
    "Analysis of Herbert's early draft."
   ]
  },
  {
   "cell_type": "code",
   "execution_count": null,
   "metadata": {
    "executionInfo": {
     "elapsed": 41556,
     "status": "aborted",
     "timestamp": 1620740151333,
     "user": {
      "displayName": "Joseph Hellerstein",
      "photoUrl": "https://lh3.googleusercontent.com/a-/AOh14Ggr-yAwbfqFCOlFTHoKepUYJ9VjZuCGILW-YdHvUQ=s64",
      "userId": "07301174361489660166"
     },
     "user_tz": 240
    },
    "id": "6nHmODc3TzLi"
   },
   "outputs": [],
   "source": [
    "su.addSymbols(\"P S S_1 S_2 _3\")"
   ]
  },
  {
   "cell_type": "markdown",
   "metadata": {
    "id": "kCj5jLpTVpQQ"
   },
   "source": [
    "## Model"
   ]
  },
  {
   "cell_type": "markdown",
   "metadata": {
    "id": "siXZCmi3VtbV"
   },
   "source": [
    "* $P \\xrightarrow{v_r} S$ has kinetics $v_r (P, E_r) = \\frac{k_r E_r P}{K_{M_{r}} + P}$\n",
    "* $S \\xrightarrow{v_f} P$ has kinetics $v_f (S, E_f)\n",
    "= k_f E_f$ because $S$ saturates the reaciton."
   ]
  },
  {
   "cell_type": "markdown",
   "metadata": {
    "id": "6yp5BezdXkzx"
   },
   "source": [
    "Consider region where $K_{M_r} >> P$ and $E_r$ is stable.\n",
    "Then, $v_r(P, E_r) \\approx k_r E_r P$."
   ]
  },
  {
   "cell_type": "markdown",
   "metadata": {
    "id": "0IJAi7EjYAPt"
   },
   "source": [
    "The LaPlace transforms are:\n",
    "* $\\frac{S(s)}{P(s)} = \\frac{1}{s} k_r E_r$\n",
    "* $\\frac{S(s)}{E(s)} = \\frac{T}{s^2} -  \\frac{1}{s} k_f E_f(s)$"
   ]
  }
 ],
 "metadata": {
  "colab": {
   "authorship_tag": "ABX9TyN+jUQTGRg8ACyAQWOHz46j",
   "collapsed_sections": [],
   "name": "Integral Control Analysis.ipynb",
   "provenance": [],
   "toc_visible": true
  },
  "kernelspec": {
   "display_name": "Python 3",
   "language": "python",
   "name": "python3"
  },
  "language_info": {
   "codemirror_mode": {
    "name": "ipython",
    "version": 3
   },
   "file_extension": ".py",
   "mimetype": "text/x-python",
   "name": "python",
   "nbconvert_exporter": "python",
   "pygments_lexer": "ipython3",
   "version": "3.6.9"
  }
 },
 "nbformat": 4,
 "nbformat_minor": 4
}
