{
 "cells": [
  {
   "cell_type": "markdown",
   "metadata": {
    "id": "ZRA_SLfa0KTa"
   },
   "source": [
    "# Integral Control Analysis"
   ]
  },
  {
   "cell_type": "markdown",
   "metadata": {
    "id": "6DI1yNOd0PI5"
   },
   "source": [
    "# Preliminaries"
   ]
  },
  {
   "cell_type": "code",
   "execution_count": 2,
   "metadata": {
    "executionInfo": {
     "elapsed": 39768,
     "status": "ok",
     "timestamp": 1620740149477,
     "user": {
      "displayName": "Joseph Hellerstein",
      "photoUrl": "https://lh3.googleusercontent.com/a-/AOh14Ggr-yAwbfqFCOlFTHoKepUYJ9VjZuCGILW-YdHvUQ=s64",
      "userId": "07301174361489660166"
     },
     "user_tz": 240
    },
    "id": "bYlTQg0n0S8d"
   },
   "outputs": [],
   "source": [
    "import tellurium as te\n",
    "import sympy\n",
    "from IPython.display import Image\n",
    "from IPython.core.display import HTML "
   ]
  },
  {
   "cell_type": "code",
   "execution_count": 3,
   "metadata": {
    "executionInfo": {
     "elapsed": 39768,
     "status": "ok",
     "timestamp": 1620740149479,
     "user": {
      "displayName": "Joseph Hellerstein",
      "photoUrl": "https://lh3.googleusercontent.com/a-/AOh14Ggr-yAwbfqFCOlFTHoKepUYJ9VjZuCGILW-YdHvUQ=s64",
      "userId": "07301174361489660166"
     },
     "user_tz": 240
    },
    "id": "edAeiZlQ-IHU"
   },
   "outputs": [],
   "source": [
    "sympy.init_printing()"
   ]
  },
  {
   "cell_type": "markdown",
   "metadata": {
    "id": "UzypYn5RUEgj"
   },
   "source": [
    "# Helper Functions"
   ]
  },
  {
   "cell_type": "code",
   "execution_count": 4,
   "metadata": {
    "executionInfo": {
     "elapsed": 39766,
     "status": "ok",
     "timestamp": 1620740149479,
     "user": {
      "displayName": "Joseph Hellerstein",
      "photoUrl": "https://lh3.googleusercontent.com/a-/AOh14Ggr-yAwbfqFCOlFTHoKepUYJ9VjZuCGILW-YdHvUQ=s64",
      "userId": "07301174361489660166"
     },
     "user_tz": 240
    },
    "id": "siNodRG1UG-E"
   },
   "outputs": [],
   "source": [
    "def addSymbols(symbolStr):\n",
    "  \"\"\"\n",
    "  Adds the list of symbols in the blank separated string.\n",
    "  \"\"\"\n",
    "  symbols = symbolStr.split(\" \")\n",
    "  globalDct = globals()\n",
    "  for idx, symbol in enumerate(symbols):\n",
    "    globalDct[symbol] = sympy.Symbol(symbol)\n",
    "\n",
    "# Tests\n",
    "variables = [\"aa\", \"bbb\", \"fruit\"]\n",
    "symbolStr = \" \".join(variables)\n",
    "addSymbols(symbolStr)\n",
    "for variable in variables:\n",
    "  assert(variable in globals())\n",
    "  delStmt = \"del %s\" % variable\n",
    "  exec(delStmt)"
   ]
  },
  {
   "cell_type": "markdown",
   "metadata": {
    "id": "967YrddK4tmN"
   },
   "source": [
    "# Utilities"
   ]
  },
  {
   "cell_type": "code",
   "execution_count": 5,
   "metadata": {
    "executionInfo": {
     "elapsed": 39766,
     "status": "ok",
     "timestamp": 1620740149480,
     "user": {
      "displayName": "Joseph Hellerstein",
      "photoUrl": "https://lh3.googleusercontent.com/a-/AOh14Ggr-yAwbfqFCOlFTHoKepUYJ9VjZuCGILW-YdHvUQ=s64",
      "userId": "07301174361489660166"
     },
     "user_tz": 240
    },
    "id": "6ZOog-114stT"
   },
   "outputs": [],
   "source": [
    "def mkSymbolStmt(symbolStr):\n",
    "  \"\"\"\n",
    "  Creaes an executable statement that defines the blank separated symbols in the string.\n",
    "  \"\"\"\n",
    "  symbols = symbolStr.split(\" \")\n",
    "  quotedStrs = [\"%s\" %s for s in symbols]\n",
    "  argStrs = \", \".join(symbols)\n",
    "  return \"%s = sympy.symbols(%s)\" % (argStrs, quotedStrs)\n",
    "\n",
    "# Tests\n",
    "variables = [\"aa\", \"bbb\", \"fruit\"]\n",
    "symbolStr = \" \".join(variables)\n",
    "stmt = mkSymbolStmt(symbolStr)\n",
    "exec(stmt)\n",
    "for variable in variables:\n",
    "  assert(variable in locals())\n",
    "  delStmt = \"del %s\" % variable\n",
    "  exec(delStmt)"
   ]
  },
  {
   "cell_type": "markdown",
   "metadata": {
    "id": "7NL7TQYj0YRD"
   },
   "source": [
    "# Implementation of integral feedback control in biological systems\n",
    "## Reference\n",
    "Authors: \n",
    "Somvanshi, Pramod R.\n",
    "Patel, Anilkumar K.\n",
    "Bhartiya, Sharad\n",
    "Venkatesh, K. V.\n",
    "\n",
    "Date: 2015"
   ]
  },
  {
   "cell_type": "markdown",
   "metadata": {
    "id": "bEfb0wew082U"
   },
   "source": [
    "## Analysis"
   ]
  },
  {
   "cell_type": "markdown",
   "metadata": {
    "id": "WjfdkBmI3dPz"
   },
   "source": [
    "[Feedback Designs](https://drive.google.com/file/d/1GT2hfqxUAo8iiLutB4ccp_mMl59KB8OH/view?usp=sharing)\n",
    "\n",
    "* $P$ - protein\n",
    "* $A$ - signaling molecule\n",
    "* $M$ - metabolite\n",
    "* $N$ - disturbance\n",
    "* $E = A_{ref} - A$\n",
    "* $A_{ref} = \\frac{k_0}{K_P}$"
   ]
  },
  {
   "cell_type": "code",
   "execution_count": 88,
   "metadata": {
    "executionInfo": {
     "elapsed": 39764,
     "status": "ok",
     "timestamp": 1620740149480,
     "user": {
      "displayName": "Joseph Hellerstein",
      "photoUrl": "https://lh3.googleusercontent.com/a-/AOh14Ggr-yAwbfqFCOlFTHoKepUYJ9VjZuCGILW-YdHvUQ=s64",
      "userId": "07301174361489660166"
     },
     "user_tz": 240
    },
    "id": "cRm10kct363e"
   },
   "outputs": [],
   "source": [
    "symbols = \"dA A A_ref K_A N rd_A rd_A1 K_A K1 K2 K3 K4 K_A2 Kd_A Kd_M K_Mp A M Mp dP P K_P k_0 M dM K_M rd_M\"\n",
    "exec(mkSymbolStmt(symbols))"
   ]
  },
  {
   "cell_type": "markdown",
   "metadata": {},
   "source": [
    "* $P \\xrightarrow{k_0}\\phi$\n",
    "* $\\phi \\xrightarrow{K_M P} M$\n",
    "* $A \\xrightarrow{Kd_A A M} \\phi$\n",
    "* $N \\xrightarrow{K_A} A$\n",
    "* $\\phi \\xrightarrow{K_P A} P$"
   ]
  },
  {
   "cell_type": "code",
   "execution_count": 177,
   "metadata": {},
   "outputs": [
    {
     "data": {
      "image/png": "[encoded data removed]",
      "text/plain": [
       "<Figure size 432x288 with 1 Axes>"
      ]
     },
     "metadata": {},
     "output_type": "display_data"
    },
    {
     "name": "stdout",
     "output_type": "stream",
     "text": [
      "Final A = 1.00\n"
     ]
    }
   ],
   "source": [
    "NET_A = \"\"\"\n",
    "\n",
    "J1: P -> ; k_0\n",
    "J3: -> P; K_P * A\n",
    "J2: -> M; K_M * P\n",
    "J2a: M ->; Kd_M * M\n",
    "J4: A -> ; Kd_A * A * M\n",
    "J5: $N -> A; K_A * N\n",
    "\n",
    "$N = 1\n",
    "P = 100\n",
    "M = 1\n",
    "A = 1\n",
    "K_N = 1\n",
    "k_0 = 1\n",
    "K_M = 1\n",
    "Kd_M = 1\n",
    "K_P = 1\n",
    "Kd_A = 1\n",
    "K_A = 1\n",
    "\"\"\"\n",
    "\n",
    "rr = te.loada(NET_A)\n",
    "rr.plot(rr.simulate(0, 1000, 100), title=\"N=%d\" % rr.N)\n",
    "print(\"Final A = %2.2f\" % rr.A)"
   ]
  },
  {
   "cell_type": "markdown",
   "metadata": {},
   "source": [
    "### Revised Network A"
   ]
  },
  {
   "cell_type": "code",
   "execution_count": 193,
   "metadata": {},
   "outputs": [
    {
     "data": {
      "image/png": "[encoded data removed]",
      "text/plain": [
       "<Figure size 432x288 with 1 Axes>"
      ]
     },
     "metadata": {},
     "output_type": "display_data"
    },
    {
     "name": "stdout",
     "output_type": "stream",
     "text": [
      "Final A = 1.50\n"
     ]
    }
   ],
   "source": [
    "# Have a source of A other than N\n",
    "NET_A1 = \"\"\"\n",
    "\n",
    "J1: P -> ; k_0\n",
    "J3: -> P; K_P * A\n",
    "J2: -> M; K_M * P\n",
    "J2a: M ->; Kd_M * M\n",
    "J4: A -> ; Kd_A * A * M\n",
    "J4a: -> A; k_1\n",
    "J5: $N -> A; K_A * N\n",
    "\n",
    "$N = 1\n",
    "P = 1\n",
    "M = 1\n",
    "A = 1\n",
    "K_N = 1\n",
    "k_0 = 1\n",
    "K_M = 1\n",
    "Kd_M = 1\n",
    "K_P = 1\n",
    "Kd_A = 1\n",
    "K_A = 1\n",
    "k_1 = 1\n",
    "\"\"\"\n",
    "\n",
    "rr = te.loada(NET_A1)\n",
    "rr.plot(rr.simulate(0, 30, 100), title=\"N=%d\" % rr.N)\n",
    "print(\"Final A = %2.2f\" % rr.A)"
   ]
  },
  {
   "cell_type": "markdown",
   "metadata": {},
   "source": [
    "### Changing $k_0$"
   ]
  },
  {
   "cell_type": "markdown",
   "metadata": {},
   "source": [
    "Vary k_0 from 0.5 to 3."
   ]
  },
  {
   "cell_type": "code",
   "execution_count": null,
   "metadata": {},
   "outputs": [],
   "source": [
    "# Have a source of A other than N\n",
    "NET_A1 = \"\"\"\n",
    "\n",
    "J1: P -> ; k_0\n",
    "J3: -> P; K_P * A\n",
    "J2: -> M; K_M * P\n",
    "J2a: M ->; Kd_M * M\n",
    "J4: A -> ; Kd_A * A * M\n",
    "J4a: -> A; k_1\n",
    "J5: $N -> A; K_A * N\n",
    "\n",
    "$N = 1\n",
    "P = 1\n",
    "M = 1\n",
    "A = 1\n",
    "K_N = 1\n",
    "k_0 = 1\n",
    "K_M = 1\n",
    "Kd_M = 1\n",
    "K_P = 1\n",
    "Kd_A = 1\n",
    "K_A = 1\n",
    "k_1 = 1\n",
    "\"\"\"\n",
    "\n",
    "rr = te.loada(NET_A1)\n",
    "rr.plot(rr.simulate(0, 30, 100), title=\"N=%d\" % rr.N)\n",
    "print(\"Final A = %2.2f\" % rr.A)"
   ]
  },
  {
   "cell_type": "code",
   "execution_count": 102,
   "metadata": {
    "executionInfo": {
     "elapsed": 39764,
     "status": "ok",
     "timestamp": 1620740149481,
     "user": {
      "displayName": "Joseph Hellerstein",
      "photoUrl": "https://lh3.googleusercontent.com/a-/AOh14Ggr-yAwbfqFCOlFTHoKepUYJ9VjZuCGILW-YdHvUQ=s64",
      "userId": "07301174361489660166"
     },
     "user_tz": 240
    },
    "id": "4i2AOTz5EeUL"
   },
   "outputs": [],
   "source": [
    "def initEquations():\n",
    "  \"\"\"\n",
    "  Constructs equations for network A where M inhibits A\n",
    "  \"\"\"\n",
    "  statements = [\n",
    "      \"dA = K_A * N - Kd_A * A * M\",\n",
    "      \"dP = K_P * A - k_0 \",\n",
    "      \"dM = K_M * P - Kd_M * M\",\n",
    "      \"equations = [dA, dP, dM]\",\n",
    "  ]\n",
    "  return \"; \".join(statements)"
   ]
  },
  {
   "cell_type": "markdown",
   "metadata": {},
   "source": [
    "## Network A"
   ]
  },
  {
   "cell_type": "code",
   "execution_count": 74,
   "metadata": {},
   "outputs": [
    {
     "data": {
      "image/png": "[encoded data removed]",
      "text/latex": [
       "$\\displaystyle \\left[ \\left( \\frac{K_{A} K_{P} Kd_{M} N}{K_{M} Kd_{A} k_{0}}, \\  \\frac{K_{A} K_{P} N}{Kd_{A} k_{0}}, \\  \\frac{k_{0}}{K_{P}}\\right)\\right]$"
      ],
      "text/plain": [
       "⎡⎛K_A⋅K_P⋅Kd_M⋅N  K_A⋅K_P⋅N   k₀⎞⎤\n",
       "⎢⎜──────────────, ─────────, ───⎟⎥\n",
       "⎣⎝ K_M⋅Kd_A⋅k₀     Kd_A⋅k₀   K_P⎠⎦"
      ]
     },
     "execution_count": 74,
     "metadata": {},
     "output_type": "execute_result"
    }
   ],
   "source": [
    "exec(initEquations())\n",
    "result = sympy.solve([dP, dM, dA], [P, M, A])\n",
    "result"
   ]
  },
  {
   "cell_type": "markdown",
   "metadata": {},
   "source": [
    "## Network B"
   ]
  },
  {
   "cell_type": "code",
   "execution_count": 85,
   "metadata": {
    "colab": {
     "base_uri": "https://localhost:8080/",
     "height": 58
    },
    "executionInfo": {
     "elapsed": 40834,
     "status": "ok",
     "timestamp": 1620740150571,
     "user": {
      "displayName": "Joseph Hellerstein",
      "photoUrl": "https://lh3.googleusercontent.com/a-/AOh14Ggr-yAwbfqFCOlFTHoKepUYJ9VjZuCGILW-YdHvUQ=s64",
      "userId": "07301174361489660166"
     },
     "user_tz": 240
    },
    "id": "6oszWYGuA5jA",
    "outputId": "2e12a432-194a-4b42-c507-b9dd590d3581"
   },
   "outputs": [
    {
     "data": {
      "image/png": "[encoded data removed]",
      "text/latex": [
       "$\\displaystyle \\left[ \\left( - \\frac{Kd_{M} \\left(K_{A} K_{P} N - Kd_{A} k_{0}\\right)}{K_{A2} K_{M} k_{0}}, \\  - \\frac{K_{A} K_{P} N - Kd_{A} k_{0}}{K_{A2} k_{0}}, \\  \\frac{k_{0}}{K_{P}}\\right)\\right]$"
      ],
      "text/plain": [
       "⎡⎛-Kd_M⋅(K_A⋅K_P⋅N - Kd_A⋅k₀)   -(K_A⋅K_P⋅N - Kd_A⋅k₀)    k₀⎞⎤\n",
       "⎢⎜────────────────────────────, ───────────────────────, ───⎟⎥\n",
       "⎣⎝        K_A2⋅K_M⋅k₀                   K_A2⋅k₀          K_P⎠⎦"
      ]
     },
     "execution_count": 85,
     "metadata": {},
     "output_type": "execute_result"
    }
   ],
   "source": [
    "# Design 1(b): M is activating on A, A inhibits P\n",
    "exec(initEquations())\n",
    "dA = K_A * N - Kd_A*A + K_A2 * M * A\n",
    "dP = -K_P * A + k_0\n",
    "#\n",
    "result = sympy.solve([dP, dM, dA], [P, M, A])\n",
    "result"
   ]
  },
  {
   "cell_type": "markdown",
   "metadata": {
    "id": "vOIST6tsGdxg"
   },
   "source": [
    "To make $A$ positive, we need to have a constant influx instead of constant degradation."
   ]
  },
  {
   "cell_type": "markdown",
   "metadata": {},
   "source": [
    "## Network C"
   ]
  },
  {
   "cell_type": "code",
   "execution_count": 93,
   "metadata": {
    "colab": {
     "base_uri": "https://localhost:8080/",
     "height": 58
    },
    "executionInfo": {
     "elapsed": 40829,
     "status": "ok",
     "timestamp": 1620740150571,
     "user": {
      "displayName": "Joseph Hellerstein",
      "photoUrl": "https://lh3.googleusercontent.com/a-/AOh14Ggr-yAwbfqFCOlFTHoKepUYJ9VjZuCGILW-YdHvUQ=s64",
      "userId": "07301174361489660166"
     },
     "user_tz": 240
    },
    "id": "dASUz0XECDdy",
    "outputId": "ed2d7611-f024-4546-beda-9ffd14e7587b"
   },
   "outputs": [
    {
     "data": {
      "image/png": "[encoded data removed]",
      "text/latex": [
       "$\\displaystyle \\left\\{ A : \\frac{k_{0}}{K_{P}}, \\  M : \\frac{K_{1} - K_{A} N}{Kd_{A}}, \\  P : \\frac{K_{1} Kd_{M} - K_{A} Kd_{M} N}{K_{M} Kd_{A}}\\right\\}$"
      ],
      "text/plain": [
       "⎧    k₀     K₁ - K_A⋅N     K₁⋅Kd_M - K_A⋅Kd_M⋅N⎫\n",
       "⎨A: ───, M: ──────────, P: ────────────────────⎬\n",
       "⎩   K_P        Kd_A              K_M⋅Kd_A      ⎭"
      ]
     },
     "execution_count": 93,
     "metadata": {},
     "output_type": "execute_result"
    }
   ],
   "source": [
    "# Design 1(c): Both M and E inhibit A. Again, need a constant influx so that steady states can be achieved.\n",
    "exec(initEquations())\n",
    "dA = - K_A * N - Kd_A * M + K1\n",
    "#\n",
    "result = sympy.solve([dP, dM, dA], [P, M, A])\n",
    "result"
   ]
  },
  {
   "cell_type": "markdown",
   "metadata": {},
   "source": [
    "## Network D"
   ]
  },
  {
   "cell_type": "code",
   "execution_count": 99,
   "metadata": {
    "colab": {
     "base_uri": "https://localhost:8080/",
     "height": 58
    },
    "executionInfo": {
     "elapsed": 40826,
     "status": "ok",
     "timestamp": 1620740150572,
     "user": {
      "displayName": "Joseph Hellerstein",
      "photoUrl": "https://lh3.googleusercontent.com/a-/AOh14Ggr-yAwbfqFCOlFTHoKepUYJ9VjZuCGILW-YdHvUQ=s64",
      "userId": "07301174361489660166"
     },
     "user_tz": 240
    },
    "id": "FyoGNpPxCd9_",
    "outputId": "7e15369d-fefc-4300-a310-66223d508816"
   },
   "outputs": [
    {
     "data": {
      "image/png": "[encoded data removed]",
      "text/latex": [
       "$\\displaystyle \\left\\{ A : \\frac{k_{0}}{K_{P}}, \\  M : \\frac{E K_{A2} K_{P} + Kd_{A} k_{0}}{K_{A} K_{P}}, \\  P : \\frac{E K_{A2} K_{P} Kd_{M} + Kd_{A} Kd_{M} k_{0}}{K_{A} K_{M} K_{P}}\\right\\}$"
      ],
      "text/plain": [
       "⎧    k₀     E⋅K_A2⋅K_P + Kd_A⋅k₀     E⋅K_A2⋅K_P⋅Kd_M + Kd_A⋅Kd_M⋅k₀⎫\n",
       "⎨A: ───, M: ────────────────────, P: ──────────────────────────────⎬\n",
       "⎩   K_P           K_A⋅K_P                     K_A⋅K_M⋅K_P          ⎭"
      ]
     },
     "execution_count": 99,
     "metadata": {},
     "output_type": "execute_result"
    }
   ],
   "source": [
    "# Design 1(d): E inhibits A; A inhibits P; M activates A\n",
    "exec(initEquations())\n",
    "dA = K_A * M - K_A2 * E - Kd_A * A\n",
    "dP = -K_P * A + k_0  # Since A inhibits, need 0th order kinetics for creation of P\n",
    "#\n",
    "result = sympy.solve([dP, dM, dA], [P, M, A])\n",
    "result"
   ]
  },
  {
   "cell_type": "markdown",
   "metadata": {
    "id": "HWYIVIivHgT7"
   },
   "source": [
    "Can construct a table with cases defined by:\n",
    "* E on A\n",
    "* M on A\n",
    "* A on P"
   ]
  },
  {
   "cell_type": "markdown",
   "metadata": {
    "id": "B27NwfrnH1oU"
   },
   "source": [
    "Theme: Systematic design of integral control based on:\n",
    "1. the placement of inhibit vs. activate and use of 0th order kinetics\n",
    "1. which term(s) have 0th order kinetics"
   ]
  },
  {
   "cell_type": "markdown",
   "metadata": {},
   "source": [
    "## Tracking for Architecture (a)"
   ]
  },
  {
   "cell_type": "code",
   "execution_count": 100,
   "metadata": {},
   "outputs": [
    {
     "data": {
      "image/png": "[encoded data removed]",
      "text/latex": [
       "$\\displaystyle \\left[ \\left( \\frac{K_{A} K_{P} Kd_{M} N}{A_{ref} K_{M} Kd_{A} k_{0}}, \\  \\frac{K_{A} K_{P} N}{A_{ref} Kd_{A} k_{0}}, \\  \\frac{A_{ref} k_{0}}{K_{P}}\\right)\\right]$"
      ],
      "text/plain": [
       "⎡⎛  K_A⋅K_P⋅Kd_M⋅N     K_A⋅K_P⋅N    A_ref⋅k₀⎞⎤\n",
       "⎢⎜─────────────────, ─────────────, ────────⎟⎥\n",
       "⎣⎝A_ref⋅K_M⋅Kd_A⋅k₀  A_ref⋅Kd_A⋅k₀    K_P   ⎠⎦"
      ]
     },
     "execution_count": 100,
     "metadata": {},
     "output_type": "execute_result"
    }
   ],
   "source": [
    "exec(initEquations())\n",
    "dP = K_P * A - k_0 * A_ref\n",
    "result = sympy.solve([dP, dM, dA], [P, M, A])\n",
    "result"
   ]
  },
  {
   "cell_type": "code",
   "execution_count": null,
   "metadata": {},
   "outputs": [],
   "source": [
    "TRACKING_MODEL_A = \"\"\"\n",
    "->P; K_P*A\n",
    "P -> A; K_P * P\n",
    "A -> P; -KA_1 * A\n",
    "A ->; KA * $M\n",
    "// E -> A; KE * A\n",
    "\n",
    "$M = 1\n",
    "KP_1 = 1\n",
    "KP_2 = 1\n",
    "KA_1 = 1\n",
    "KA = 1\n",
    "KE = 1\n",
    "\"\"\"\n",
    "\n",
    "rr = te.loada(MODEL)\n",
    "rr.plot(rr.simulate())"
   ]
  },
  {
   "cell_type": "markdown",
   "metadata": {
    "id": "OrhN9xnCc1yB"
   },
   "source": [
    "# Architecture II: No M"
   ]
  },
  {
   "cell_type": "code",
   "execution_count": 14,
   "metadata": {
    "executionInfo": {
     "elapsed": 40824,
     "status": "ok",
     "timestamp": 1620740150572,
     "user": {
      "displayName": "Joseph Hellerstein",
      "photoUrl": "https://lh3.googleusercontent.com/a-/AOh14Ggr-yAwbfqFCOlFTHoKepUYJ9VjZuCGILW-YdHvUQ=s64",
      "userId": "07301174361489660166"
     },
     "user_tz": 240
    },
    "id": "1hscpyaMc5pl"
   },
   "outputs": [],
   "source": [
    "def init2Equations():\n",
    "  statements = [\n",
    "      \"dA = K_A * E - Kd_A * A * P\",\n",
    "      \"dP = K_P * A - k_0\",\n",
    "      \"equations = [dA, dP]\",\n",
    "  ]\n",
    "  return \"; \".join(statements)"
   ]
  },
  {
   "cell_type": "code",
   "execution_count": 15,
   "metadata": {
    "colab": {
     "base_uri": "https://localhost:8080/",
     "height": 58
    },
    "executionInfo": {
     "elapsed": 40820,
     "status": "ok",
     "timestamp": 1620740150573,
     "user": {
      "displayName": "Joseph Hellerstein",
      "photoUrl": "https://lh3.googleusercontent.com/a-/AOh14Ggr-yAwbfqFCOlFTHoKepUYJ9VjZuCGILW-YdHvUQ=s64",
      "userId": "07301174361489660166"
     },
     "user_tz": 240
    },
    "id": "hdMDaAatdFyH",
    "outputId": "fde379c1-9360-4492-adfb-3f9e812a1ad7"
   },
   "outputs": [
    {
     "data": {
      "image/png": "[encoded data removed]",
      "text/latex": [
       "$\\displaystyle \\left\\{ A : \\frac{k_{0}}{K_{P}}\\right\\}$"
      ],
      "text/plain": [
       "⎧    k₀⎫\n",
       "⎨A: ───⎬\n",
       "⎩   K_P⎭"
      ]
     },
     "execution_count": 15,
     "metadata": {},
     "output_type": "execute_result"
    }
   ],
   "source": [
    "# Case 2(a): P inhibits A\n",
    "exec(init2Equations())\n",
    "sympy.solve([dP], A)"
   ]
  },
  {
   "cell_type": "code",
   "execution_count": 16,
   "metadata": {
    "colab": {
     "base_uri": "https://localhost:8080/",
     "height": 58
    },
    "executionInfo": {
     "elapsed": 40815,
     "status": "ok",
     "timestamp": 1620740150573,
     "user": {
      "displayName": "Joseph Hellerstein",
      "photoUrl": "https://lh3.googleusercontent.com/a-/AOh14Ggr-yAwbfqFCOlFTHoKepUYJ9VjZuCGILW-YdHvUQ=s64",
      "userId": "07301174361489660166"
     },
     "user_tz": 240
    },
    "id": "4VA-AXqndhaa",
    "outputId": "f6f3e371-c278-4daf-ac29-586edad34c42"
   },
   "outputs": [
    {
     "data": {
      "image/png": "[encoded data removed]",
      "text/latex": [
       "$\\displaystyle \\left[ \\frac{E K_{A} K_{P}}{Kd_{A} k_{0}}\\right]$"
      ],
      "text/plain": [
       "⎡E⋅K_A⋅K_P⎤\n",
       "⎢─────────⎥\n",
       "⎣ Kd_A⋅k₀ ⎦"
      ]
     },
     "execution_count": 16,
     "metadata": {},
     "output_type": "execute_result"
    }
   ],
   "source": [
    "# How much protein is required\n",
    "newdA = dA.subs(A, k_0/K_P)\n",
    "sympy.solve(newdA, P)"
   ]
  },
  {
   "cell_type": "markdown",
   "metadata": {
    "id": "riZcd_f5_b0k"
   },
   "source": [
    "# Tracking Control"
   ]
  },
  {
   "cell_type": "code",
   "execution_count": null,
   "metadata": {},
   "outputs": [],
   "source": [
    "# Can still get integral control with unimolecular degradation for A, M in A. Why biomolecular in model?\n",
    "exec(initEquations())\n",
    "dA = K_A * E - Kd_A * (A + M)\n",
    "#\n",
    "sympy.solve([dP], A)"
   ]
  },
  {
   "cell_type": "markdown",
   "metadata": {
    "id": "TJEJGBZz_fRi"
   },
   "source": [
    "Architecture: P degradation depends on tracking molecule, but it cannot change the level of the molecule."
   ]
  },
  {
   "cell_type": "code",
   "execution_count": 17,
   "metadata": {
    "colab": {
     "base_uri": "https://localhost:8080/",
     "height": 265
    },
    "executionInfo": {
     "elapsed": 41569,
     "status": "ok",
     "timestamp": 1620740151332,
     "user": {
      "displayName": "Joseph Hellerstein",
      "photoUrl": "https://lh3.googleusercontent.com/a-/AOh14Ggr-yAwbfqFCOlFTHoKepUYJ9VjZuCGILW-YdHvUQ=s64",
      "userId": "07301174361489660166"
     },
     "user_tz": 240
    },
    "id": "zrJKql-tvpyn",
    "outputId": "ed652616-05e1-4bd4-c3cb-8c5f51f9bae9"
   },
   "outputs": [
    {
     "data": {
      "image/png": "[encoded data removed]",
      "text/plain": [
       "<Figure size 432x288 with 1 Axes>"
      ]
     },
     "metadata": {},
     "output_type": "display_data"
    }
   ],
   "source": [
    "MODEL = \"\"\"\n",
    "P -> A; KP_1 * P * M\n",
    "A -> P; -KA_1 * A\n",
    "A ->; KA * $M\n",
    "// E -> A; KE * A\n",
    "\n",
    "$M = 1\n",
    "KP_1 = 1\n",
    "KP_2 = 1\n",
    "KA_1 = 1\n",
    "KA = 1\n",
    "KE = 1\n",
    "\"\"\"\n",
    "\n",
    "rr = te.loada(MODEL)\n",
    "rr.plot(rr.simulate())"
   ]
  },
  {
   "cell_type": "code",
   "execution_count": 18,
   "metadata": {
    "executionInfo": {
     "elapsed": 41567,
     "status": "ok",
     "timestamp": 1620740151332,
     "user": {
      "displayName": "Joseph Hellerstein",
      "photoUrl": "https://lh3.googleusercontent.com/a-/AOh14Ggr-yAwbfqFCOlFTHoKepUYJ9VjZuCGILW-YdHvUQ=s64",
      "userId": "07301174361489660166"
     },
     "user_tz": 240
    },
    "id": "0arMHINl_pRW"
   },
   "outputs": [],
   "source": [
    "def init3Equations():\n",
    "  statements = [\n",
    "      \"dA = K_A * E - Kd_A * A * P\",\n",
    "      \"dP = K_P * A - k_0 * M\",\n",
    "      \"dM = -k_0 + K_Mp * Mp\", \n",
    "      \"dMp = K_M * M - K_Mp * Mp\",\n",
    "      \"equations = [dA, dP]\",\n",
    "  ]\n",
    "  return \"; \".join(statements)"
   ]
  },
  {
   "cell_type": "code",
   "execution_count": 19,
   "metadata": {
    "colab": {
     "base_uri": "https://localhost:8080/",
     "height": 58
    },
    "executionInfo": {
     "elapsed": 41564,
     "status": "ok",
     "timestamp": 1620740151333,
     "user": {
      "displayName": "Joseph Hellerstein",
      "photoUrl": "https://lh3.googleusercontent.com/a-/AOh14Ggr-yAwbfqFCOlFTHoKepUYJ9VjZuCGILW-YdHvUQ=s64",
      "userId": "07301174361489660166"
     },
     "user_tz": 240
    },
    "id": "OaFHp_oW_yN6",
    "outputId": "3e92dff9-4981-4e40-decd-0b34813ad274"
   },
   "outputs": [
    {
     "data": {
      "image/png": "[encoded data removed]",
      "text/latex": [
       "$\\displaystyle \\left\\{ A : \\frac{M k_{0}}{K_{P}}\\right\\}$"
      ],
      "text/plain": [
       "⎧   M⋅k₀⎫\n",
       "⎨A: ────⎬\n",
       "⎩   K_P ⎭"
      ]
     },
     "execution_count": 19,
     "metadata": {},
     "output_type": "execute_result"
    }
   ],
   "source": [
    "exec(init3Equations())\n",
    "sympy.solve([dP], A)"
   ]
  },
  {
   "cell_type": "code",
   "execution_count": 20,
   "metadata": {
    "colab": {
     "base_uri": "https://localhost:8080/",
     "height": 37
    },
    "executionInfo": {
     "elapsed": 41559,
     "status": "ok",
     "timestamp": 1620740151333,
     "user": {
      "displayName": "Joseph Hellerstein",
      "photoUrl": "https://lh3.googleusercontent.com/a-/AOh14Ggr-yAwbfqFCOlFTHoKepUYJ9VjZuCGILW-YdHvUQ=s64",
      "userId": "07301174361489660166"
     },
     "user_tz": 240
    },
    "id": "NGhA0kjFB_zg",
    "outputId": "f1251187-508a-4a56-afb5-de0b143c1f08"
   },
   "outputs": [
    {
     "data": {
      "image/png": "[encoded data removed]",
      "text/latex": [
       "$\\displaystyle \\left[ \\right]$"
      ],
      "text/plain": [
       "[]"
      ]
     },
     "execution_count": 20,
     "metadata": {},
     "output_type": "execute_result"
    }
   ],
   "source": [
    "exec(init3Equations())\n",
    "sympy.solve(equations, A)"
   ]
  },
  {
   "cell_type": "markdown",
   "metadata": {
    "id": "l_B0TxkEUia0"
   },
   "source": [
    "# Integral Control Paper 1"
   ]
  },
  {
   "cell_type": "markdown",
   "metadata": {
    "id": "GZJQgVSOUqDe"
   },
   "source": [
    "[Feedback Designs](https://drive.google.com/file/d/1mP0A5jvdlVCtdFCy6QbapDgcsWC_LzmU/view?usp=sharing)"
   ]
  },
  {
   "cell_type": "markdown",
   "metadata": {
    "id": "DDlQG1xDU90P"
   },
   "source": [
    "The system including $P$ phosphorylation and dephosphorylation.\n",
    "\n",
    "* $\\dot{S} = k_0 x_0 - k_2 P  + k_6 E$\n",
    "* $\\dot{P} = k_4 x_0 - k_7 P + k_8 Pp$. \n",
    "* $\\dot{Pp} = k_7 P - k_8 Pp$\n",
    "* $\\dot{x}_1 = k_5 S$"
   ]
  },
  {
   "cell_type": "markdown",
   "metadata": {
    "id": "0zPjdDagWXAF"
   },
   "source": [
    "**LaPlace Transforms.**\n",
    "\n",
    "$s S(s) = k_0 X_0 (s) - k_2 P(s) +k_6 E(s)$\n",
    "\n",
    "$s P(s) = k_4 X_0 (s) -k_7 P(s) + k_8 Pp(s)$\n",
    "\n",
    "$s Pp(s) = k_7 P(s) - k_8 Pp(s)$\n",
    "Or, $Pp(s) = P(s) \\frac{k_7}{s + k_8}.$\n",
    "\n",
    "So,\n",
    "\\begin{align*}\n",
    "sP(s) & = & k_4 X_0 (s) -k_7 P(s) + k_8 Pp(s) \\\\\n",
    "& = & k_4 X_0 (s) -k_7 P(s) + k_8 P(s) \\frac{k_7}{s + k_8} \\\\\n",
    "P(s)& = & X_0 (s) \\frac{k_4 }{s + k_7 - \\frac{k_7 k_8 }{s + k_8}}\n",
    "\\end{align*}\n",
    "\n",
    "With this,\n",
    "\\begin{align*}\n",
    "S(s) = X_0(s) \\frac{ k_0 - k_2 \\frac{k_4 }{s + k_7 - \\frac{k_7 k_8 }{s + k_8}}}{s + k_7} +  E(s) \\frac{k_6}{s + k_3}\n",
    "\\end{align*}\n",
    "\n",
    "\\begin{align*}\n",
    "X_1(s) & = & \\frac{k_5}{s}S(s) \\\\\n",
    "& = & X_0(s) \\frac{k_5}{s}  \\frac{ k_0  - k_2 \\frac{k_4 }{s + k_7 - \\frac{k_7 k_8 }{s + k_8}}}{s + k_7} +  E(s) \\frac{k_5}{s} \\frac{k_6}{s + k_3}\n",
    "\\end{align*}\n",
    "\n",
    "This suggests that the impulse response is finite but the step response is unbounded. Also, $x_t(t) \\neq 0$ for a non-zeror $e(t)$.\n",
    "\n",
    "Note that $k_8$ must be small for the integrator to work.\n",
    "So,\n",
    "\\begin{align*}\n",
    "X_1(s) & \\approx & X_0(s) \\frac{k_5}{s}  \\frac{ k_0 - k_2 \\frac{k_4 }{s + k_7 }}{s + k_7} +  E(s) \\frac{k_5}{s} \\frac{k_6}{s + k_3}\n",
    "\\end{align*}\n",
    "\n",
    "Observe that for an impulse $x_0$, \n",
    "$x_1 (\\infty) =  k_5 \\frac{ k_0 k_7 - k_2 k_4}{ k_7^2} .$"
   ]
  },
  {
   "cell_type": "markdown",
   "metadata": {
    "id": "ssnEu5q83Hx7"
   },
   "source": [
    "Solve for $H_E (s) = \\frac{X_1(s)}{E(s)}$.\n",
    "\n",
    "$X_0(s) = 0$\n",
    "\n",
    "$s S(s) =  - k_3 S(s) + k_6 E(s)$ And so,\n",
    "$S(s) = \\frac{k_6 E(s)}{s + k_3}$\n",
    "\n",
    "Further,\n",
    "$X_1(s) = \\frac{k_5}{s}\\frac{k_6 E(s)}{s + k_3} .$\n",
    "\n",
    "Suggest that there is an error with the impulse response, and the system does not converge with the step response."
   ]
  },
  {
   "cell_type": "markdown",
   "metadata": {
    "id": "3zJVJG31XJi9"
   },
   "source": [
    "Solve for transfer function: $H(s) = \\frac{X_1(s)}{X_0(s)}$.\n",
    "\n",
    "$s S(s) = X_0 (s) \\frac{k_0 - k_2 k_4 }{s + k_3}$\n",
    "\n",
    "$ \n",
    "\\begin{align*}\n",
    "X_1 (s) & = &  \\frac{k_5}{s} S(s) \\\\\n",
    "& = & X_0 (s) \\frac{k_5}{s^2}  \\frac{k_0 - k_2 k_4 }{s + k_3} \\\\\n",
    "H(s) & = & \\frac{1}{s^2} \\frac{k_0 - k_2 k_4 }{s + k_3}\n",
    "\\end{align*}\n",
    "$\n",
    "\n",
    "$H (0)$ is constant and so the output tracks the input. However, the system has complex dynamics."
   ]
  },
  {
   "cell_type": "code",
   "execution_count": 21,
   "metadata": {
    "executionInfo": {
     "elapsed": 360,
     "status": "ok",
     "timestamp": 1620741403778,
     "user": {
      "displayName": "Joseph Hellerstein",
      "photoUrl": "https://lh3.googleusercontent.com/a-/AOh14Ggr-yAwbfqFCOlFTHoKepUYJ9VjZuCGILW-YdHvUQ=s64",
      "userId": "07301174361489660166"
     },
     "user_tz": 240
    },
    "id": "yEW7TWzQEPoo"
   },
   "outputs": [],
   "source": [
    "# Simulation\n",
    "MODEL = \"\"\"\n",
    "$X0 -> S; k0*X0 - k2*P\n",
    "S -> X1; k4*X0\n",
    "S -> P; k4*X0\n",
    "P -> Pp; k7*P\n",
    "Pp -> P; k8*Pp\n",
    "\n",
    "$X0 = 1\n",
    "k0 = 1\n",
    "k2 = 1\n",
    "k3\n",
    "\"\"\""
   ]
  },
  {
   "cell_type": "markdown",
   "metadata": {
    "id": "VujgsgVzTnMj"
   },
   "source": [
    "# Integral Paper 2\n",
    "Analysis of Herbert's early draft."
   ]
  },
  {
   "cell_type": "code",
   "execution_count": 22,
   "metadata": {
    "executionInfo": {
     "elapsed": 41556,
     "status": "aborted",
     "timestamp": 1620740151333,
     "user": {
      "displayName": "Joseph Hellerstein",
      "photoUrl": "https://lh3.googleusercontent.com/a-/AOh14Ggr-yAwbfqFCOlFTHoKepUYJ9VjZuCGILW-YdHvUQ=s64",
      "userId": "07301174361489660166"
     },
     "user_tz": 240
    },
    "id": "6nHmODc3TzLi"
   },
   "outputs": [],
   "source": [
    "addSymbols(\"P S S_1 S_2 _3\")"
   ]
  },
  {
   "cell_type": "markdown",
   "metadata": {
    "id": "kCj5jLpTVpQQ"
   },
   "source": [
    "## Model"
   ]
  },
  {
   "cell_type": "markdown",
   "metadata": {
    "id": "siXZCmi3VtbV"
   },
   "source": [
    "* $P \\xrightarrow{v_r} S$ has kinetics $v_r (P, E_r) = \\frac{k_r E_r P}{K_{M_{r}} + P}$\n",
    "* $S \\xrightarrow{v_f} P$ has kinetics $v_f (S, E_f)\n",
    "= k_f E_f$ because $S$ saturates the reaciton."
   ]
  },
  {
   "cell_type": "markdown",
   "metadata": {
    "id": "6yp5BezdXkzx"
   },
   "source": [
    "Consider region where $K_{M_r} >> P$ and $E_r$ is stable.\n",
    "Then, $v_r(P, E_r) \\approx k_r E_r P$."
   ]
  },
  {
   "cell_type": "markdown",
   "metadata": {
    "id": "0IJAi7EjYAPt"
   },
   "source": [
    "The LaPlace transforms are:\n",
    "* $\\frac{S(s)}{P(s)} = \\frac{1}{s} k_r E_r$\n",
    "* $\\frac{S(s)}{E(s)} = \\frac{T}{s^2} -  \\frac{1}{s} k_f E_f(s)$"
   ]
  }
 ],
 "metadata": {
  "colab": {
   "authorship_tag": "ABX9TyN+jUQTGRg8ACyAQWOHz46j",
   "collapsed_sections": [],
   "name": "Integral Control Analysis.ipynb",
   "provenance": [],
   "toc_visible": true
  },
  "kernelspec": {
   "display_name": "Python 3",
   "language": "python",
   "name": "python3"
  },
  "language_info": {
   "codemirror_mode": {
    "name": "ipython",
    "version": 3
   },
   "file_extension": ".py",
   "mimetype": "text/x-python",
   "name": "python",
   "nbconvert_exporter": "python",
   "pygments_lexer": "ipython3",
   "version": "3.6.9"
  }
 },
 "nbformat": 4,
 "nbformat_minor": 4
}
